{
 "cells": [
  {
   "cell_type": "code",
   "execution_count": 2,
   "metadata": {
    "collapsed": true
   },
   "outputs": [],
   "source": [
    "import pandas as pd\n",
    "import matplotlib as mpl\n",
    "from matplotlib import pyplot\n",
    "from datetime import datetime\n",
    "import plotly\n",
    "import plotly.plotly as py\n",
    "import plotly.graph_objs as go\n",
    "import numpy as np\n",
    "\n",
    "dow = pd.read_csv(\"data_gathering/data/DJI.csv\")\n",
    "btc = pd.read_csv(\"data_gathering/data/BTC.csv\")"
   ]
  },
  {
   "cell_type": "code",
   "execution_count": 3,
   "metadata": {
    "collapsed": true
   },
   "outputs": [],
   "source": [
    "from IPython.display import HTML\n",
    "plotly.tools.set_credentials_file(username=\"AndyVu-Hoang\", api_key=\"9Ut7brZV1YJ1eDk0aNyw\")"
   ]
  },
  {
   "cell_type": "code",
   "execution_count": 4,
   "metadata": {},
   "outputs": [
    {
     "data": {
      "text/html": [
       "<div>\n",
       "<style>\n",
       "    .dataframe thead tr:only-child th {\n",
       "        text-align: right;\n",
       "    }\n",
       "\n",
       "    .dataframe thead th {\n",
       "        text-align: left;\n",
       "    }\n",
       "\n",
       "    .dataframe tbody tr th {\n",
       "        vertical-align: top;\n",
       "    }\n",
       "</style>\n",
       "<table border=\"1\" class=\"dataframe\">\n",
       "  <thead>\n",
       "    <tr style=\"text-align: right;\">\n",
       "      <th></th>\n",
       "      <th>Date</th>\n",
       "      <th>Open</th>\n",
       "      <th>High</th>\n",
       "      <th>Low</th>\n",
       "      <th>Close</th>\n",
       "      <th>Adj Close</th>\n",
       "      <th>Volume</th>\n",
       "    </tr>\n",
       "  </thead>\n",
       "  <tbody>\n",
       "    <tr>\n",
       "      <th>0</th>\n",
       "      <td>5/1/2013</td>\n",
       "      <td>14839.79981</td>\n",
       "      <td>14839.79981</td>\n",
       "      <td>14687.04981</td>\n",
       "      <td>14700.95020</td>\n",
       "      <td>14700.95020</td>\n",
       "      <td>112620000</td>\n",
       "    </tr>\n",
       "    <tr>\n",
       "      <th>1</th>\n",
       "      <td>5/2/2013</td>\n",
       "      <td>14700.95020</td>\n",
       "      <td>14834.62988</td>\n",
       "      <td>14700.95020</td>\n",
       "      <td>14831.58008</td>\n",
       "      <td>14831.58008</td>\n",
       "      <td>91180000</td>\n",
       "    </tr>\n",
       "    <tr>\n",
       "      <th>2</th>\n",
       "      <td>5/3/2013</td>\n",
       "      <td>14831.58008</td>\n",
       "      <td>15009.58984</td>\n",
       "      <td>14831.58008</td>\n",
       "      <td>14973.95996</td>\n",
       "      <td>14973.95996</td>\n",
       "      <td>119890000</td>\n",
       "    </tr>\n",
       "    <tr>\n",
       "      <th>3</th>\n",
       "      <td>5/6/2013</td>\n",
       "      <td>14973.95996</td>\n",
       "      <td>14988.87012</td>\n",
       "      <td>14941.08984</td>\n",
       "      <td>14968.88965</td>\n",
       "      <td>14968.88965</td>\n",
       "      <td>116160000</td>\n",
       "    </tr>\n",
       "    <tr>\n",
       "      <th>4</th>\n",
       "      <td>5/7/2013</td>\n",
       "      <td>14968.88965</td>\n",
       "      <td>15056.66992</td>\n",
       "      <td>14968.88965</td>\n",
       "      <td>15056.20020</td>\n",
       "      <td>15056.20020</td>\n",
       "      <td>117230000</td>\n",
       "    </tr>\n",
       "  </tbody>\n",
       "</table>\n",
       "</div>"
      ],
      "text/plain": [
       "       Date         Open         High          Low        Close    Adj Close  \\\n",
       "0  5/1/2013  14839.79981  14839.79981  14687.04981  14700.95020  14700.95020   \n",
       "1  5/2/2013  14700.95020  14834.62988  14700.95020  14831.58008  14831.58008   \n",
       "2  5/3/2013  14831.58008  15009.58984  14831.58008  14973.95996  14973.95996   \n",
       "3  5/6/2013  14973.95996  14988.87012  14941.08984  14968.88965  14968.88965   \n",
       "4  5/7/2013  14968.88965  15056.66992  14968.88965  15056.20020  15056.20020   \n",
       "\n",
       "      Volume  \n",
       "0  112620000  \n",
       "1   91180000  \n",
       "2  119890000  \n",
       "3  116160000  \n",
       "4  117230000  "
      ]
     },
     "execution_count": 4,
     "metadata": {},
     "output_type": "execute_result"
    }
   ],
   "source": [
    "dow.head()"
   ]
  },
  {
   "cell_type": "code",
   "execution_count": 5,
   "metadata": {},
   "outputs": [
    {
     "data": {
      "text/html": [
       "<div>\n",
       "<style>\n",
       "    .dataframe thead tr:only-child th {\n",
       "        text-align: right;\n",
       "    }\n",
       "\n",
       "    .dataframe thead th {\n",
       "        text-align: left;\n",
       "    }\n",
       "\n",
       "    .dataframe tbody tr th {\n",
       "        vertical-align: top;\n",
       "    }\n",
       "</style>\n",
       "<table border=\"1\" class=\"dataframe\">\n",
       "  <thead>\n",
       "    <tr style=\"text-align: right;\">\n",
       "      <th></th>\n",
       "      <th>Date</th>\n",
       "      <th>BITSTAMP</th>\n",
       "      <th>COINBASE</th>\n",
       "      <th>ITBIT</th>\n",
       "      <th>KRAKEN</th>\n",
       "      <th>avg_btc_price_usd</th>\n",
       "      <th>price_usd</th>\n",
       "    </tr>\n",
       "  </thead>\n",
       "  <tbody>\n",
       "    <tr>\n",
       "      <th>2400</th>\n",
       "      <td>4/9/2018</td>\n",
       "      <td>6839.423990</td>\n",
       "      <td>6854.045507</td>\n",
       "      <td>6883.028037</td>\n",
       "      <td>6844.344700</td>\n",
       "      <td>6855.210559</td>\n",
       "      <td>6855.210559</td>\n",
       "    </tr>\n",
       "    <tr>\n",
       "      <th>2401</th>\n",
       "      <td>4/10/2018</td>\n",
       "      <td>6786.642319</td>\n",
       "      <td>6791.874050</td>\n",
       "      <td>6779.679059</td>\n",
       "      <td>6780.155652</td>\n",
       "      <td>6784.587770</td>\n",
       "      <td>6784.587770</td>\n",
       "    </tr>\n",
       "    <tr>\n",
       "      <th>2402</th>\n",
       "      <td>4/11/2018</td>\n",
       "      <td>6894.958433</td>\n",
       "      <td>6893.791740</td>\n",
       "      <td>6886.717021</td>\n",
       "      <td>6887.136386</td>\n",
       "      <td>6890.650895</td>\n",
       "      <td>6890.650895</td>\n",
       "    </tr>\n",
       "    <tr>\n",
       "      <th>2403</th>\n",
       "      <td>4/12/2018</td>\n",
       "      <td>7548.015149</td>\n",
       "      <td>7546.063852</td>\n",
       "      <td>7476.781733</td>\n",
       "      <td>7542.264352</td>\n",
       "      <td>7528.281271</td>\n",
       "      <td>7528.281271</td>\n",
       "    </tr>\n",
       "    <tr>\n",
       "      <th>2404</th>\n",
       "      <td>4/13/2018</td>\n",
       "      <td>8035.266915</td>\n",
       "      <td>7998.148796</td>\n",
       "      <td>8016.838673</td>\n",
       "      <td>8003.545154</td>\n",
       "      <td>8013.449884</td>\n",
       "      <td>8013.449884</td>\n",
       "    </tr>\n",
       "  </tbody>\n",
       "</table>\n",
       "</div>"
      ],
      "text/plain": [
       "           Date     BITSTAMP     COINBASE        ITBIT       KRAKEN  \\\n",
       "2400   4/9/2018  6839.423990  6854.045507  6883.028037  6844.344700   \n",
       "2401  4/10/2018  6786.642319  6791.874050  6779.679059  6780.155652   \n",
       "2402  4/11/2018  6894.958433  6893.791740  6886.717021  6887.136386   \n",
       "2403  4/12/2018  7548.015149  7546.063852  7476.781733  7542.264352   \n",
       "2404  4/13/2018  8035.266915  7998.148796  8016.838673  8003.545154   \n",
       "\n",
       "      avg_btc_price_usd    price_usd  \n",
       "2400        6855.210559  6855.210559  \n",
       "2401        6784.587770  6784.587770  \n",
       "2402        6890.650895  6890.650895  \n",
       "2403        7528.281271  7528.281271  \n",
       "2404        8013.449884  8013.449884  "
      ]
     },
     "execution_count": 5,
     "metadata": {},
     "output_type": "execute_result"
    }
   ],
   "source": [
    "btc.tail()"
   ]
  },
  {
   "cell_type": "code",
   "execution_count": 6,
   "metadata": {
    "collapsed": true
   },
   "outputs": [],
   "source": [
    "# the dates are in different formats\n",
    "# converting to datetime\n",
    "dow['Date'] = pd.to_datetime(dow['Date'])\n",
    "btc['Date'] = pd.to_datetime(btc['Date'])"
   ]
  },
  {
   "cell_type": "code",
   "execution_count": 7,
   "metadata": {
    "collapsed": true
   },
   "outputs": [],
   "source": [
    "btc_ts = btc[['price_usd']]\n",
    "btc_ts.index = btc['Date']"
   ]
  },
  {
   "cell_type": "code",
   "execution_count": 8,
   "metadata": {},
   "outputs": [
    {
     "data": {
      "text/plain": [
       "DatetimeIndex(['2011-09-13', '2011-09-14', '2011-09-15', '2011-09-16',\n",
       "               '2011-09-17', '2011-09-18', '2011-09-19', '2011-09-20',\n",
       "               '2011-09-21', '2011-09-22',\n",
       "               ...\n",
       "               '2018-04-04', '2018-04-05', '2018-04-06', '2018-04-07',\n",
       "               '2018-04-08', '2018-04-09', '2018-04-10', '2018-04-11',\n",
       "               '2018-04-12', '2018-04-13'],\n",
       "              dtype='datetime64[ns]', name='Date', length=2405, freq=None)"
      ]
     },
     "execution_count": 8,
     "metadata": {},
     "output_type": "execute_result"
    }
   ],
   "source": [
    "btc_ts.index"
   ]
  },
  {
   "cell_type": "code",
   "execution_count": 9,
   "metadata": {},
   "outputs": [
    {
     "data": {
      "text/plain": [
       "Date\n",
       "2011-09-13       5.929231\n",
       "2011-09-14       5.590798\n",
       "2011-09-15       5.094272\n",
       "2011-09-16       4.854515\n",
       "2011-09-17       4.870000\n",
       "2011-09-18       4.839576\n",
       "2011-09-19       4.900000\n",
       "2011-09-20       5.388054\n",
       "2011-09-21       5.706075\n",
       "2011-09-22       5.696960\n",
       "2011-09-23       5.707099\n",
       "2011-09-24       5.722494\n",
       "2011-09-25       6.050000\n",
       "2011-09-26       5.983073\n",
       "2011-09-27       4.895402\n",
       "2011-09-28       4.862498\n",
       "2011-09-29       4.816345\n",
       "2011-09-30            NaN\n",
       "2011-10-01            NaN\n",
       "2011-10-02            NaN\n",
       "2011-10-03       4.847772\n",
       "2011-10-04       4.924737\n",
       "2011-10-05       5.029419\n",
       "2011-10-06       4.908846\n",
       "2011-10-07       4.687629\n",
       "2011-10-08       4.455536\n",
       "2011-10-09       3.890000\n",
       "2011-10-10       4.498302\n",
       "2011-10-11       3.998965\n",
       "2011-10-12       3.943964\n",
       "                 ...     \n",
       "2018-03-15    8067.795078\n",
       "2018-03-16    8301.331495\n",
       "2018-03-17    8039.581190\n",
       "2018-03-18    7670.518666\n",
       "2018-03-19    8383.159592\n",
       "2018-03-20    8687.915179\n",
       "2018-03-21    8965.557594\n",
       "2018-03-22    8751.157018\n",
       "2018-03-23    8534.928842\n",
       "2018-03-24    8819.217773\n",
       "2018-03-25    8520.438100\n",
       "2018-03-26    8160.370440\n",
       "2018-03-27    7951.409267\n",
       "2018-03-28    7918.357757\n",
       "2018-03-29    7393.662244\n",
       "2018-03-30    6853.650658\n",
       "2018-03-31    7015.388928\n",
       "2018-04-01    6723.150013\n",
       "2018-04-02    6985.190921\n",
       "2018-04-03    7335.245572\n",
       "2018-04-04    7023.575847\n",
       "2018-04-05    6742.288573\n",
       "2018-04-06    6642.255407\n",
       "2018-04-07    6894.554754\n",
       "2018-04-08    6994.546667\n",
       "2018-04-09    6855.210559\n",
       "2018-04-10    6784.587770\n",
       "2018-04-11    6890.650895\n",
       "2018-04-12    7528.281271\n",
       "2018-04-13    8013.449884\n",
       "Name: price_usd, Length: 2405, dtype: float64"
      ]
     },
     "execution_count": 9,
     "metadata": {},
     "output_type": "execute_result"
    }
   ],
   "source": [
    "btc_ts.price_usd"
   ]
  },
  {
   "cell_type": "code",
   "execution_count": 10,
   "metadata": {},
   "outputs": [
    {
     "data": {
      "text/html": [
       "<iframe id=\"igraph\" scrolling=\"no\" style=\"border:none;\" seamless=\"seamless\" src=\"https://plot.ly/~AndyVu-Hoang/14.embed\" height=\"525px\" width=\"100%\"></iframe>"
      ],
      "text/plain": [
       "<plotly.tools.PlotlyDisplay object>"
      ]
     },
     "execution_count": 10,
     "metadata": {},
     "output_type": "execute_result"
    }
   ],
   "source": [
    "py.iplot([go.Scatter(x=btc_ts.index, y=btc_ts.price_usd)])\n"
   ]
  },
  {
   "cell_type": "code",
   "execution_count": 11,
   "metadata": {},
   "outputs": [
    {
     "data": {
      "image/png": "[encoded data removed]",
      "text/plain": [
       "<matplotlib.figure.Figure at 0x24ceb1a9400>"
      ]
     },
     "metadata": {},
     "output_type": "display_data"
    }
   ],
   "source": [
    "# there is clearly an increasing trend for the price of bitcoin\n",
    "# checking for seasonality\n",
    "X = btc_ts.values\n",
    "diff = list()\n",
    "days_in_year = 365\n",
    "for i in range(days_in_year, len(X)):\n",
    "    value = X[i] - X[i-days_in_year]\n",
    "    diff.append(value)\n",
    "pyplot.plot(diff)\n",
    "pyplot.show()"
   ]
  },
  {
   "cell_type": "code",
   "execution_count": 12,
   "metadata": {
    "collapsed": true
   },
   "outputs": [],
   "source": [
    "# checking if certain months have better average prices for the year\n",
    "btc_ts.index.month\n",
    "month_avgs = []\n",
    "for i in range(2012, 2019):\n",
    "    months = list()\n",
    "    for j in range(1,13):\n",
    "        m_y = btc_ts[btc_ts.index.year==i]\n",
    "        m = m_y[m_y.index.month==j]\n",
    "        if(len(m.price_usd)!=0):\n",
    "            avg = sum(m.price_usd)/len(m.price_usd)\n",
    "            months.append(avg)\n",
    "        else:\n",
    "            months.append(0)\n",
    "    month_avgs.append({'Year': i, 'January': months[0], 'February': months[1], 'March': months[2],\n",
    "                      'April': months[3], 'May': months[4], 'June': months[5], 'July': months[6],\n",
    "                      'August': months[7], 'September': months[8], 'October': months[9], \n",
    "                      'November': months[10], 'December': months[11]})"
   ]
  },
  {
   "cell_type": "code",
   "execution_count": 13,
   "metadata": {
    "collapsed": true
   },
   "outputs": [],
   "source": [
    "month_avgs = pd.DataFrame(month_avgs)"
   ]
  },
  {
   "cell_type": "code",
   "execution_count": 14,
   "metadata": {},
   "outputs": [
    {
     "data": {
      "text/html": [
       "<div>\n",
       "<style>\n",
       "    .dataframe thead tr:only-child th {\n",
       "        text-align: right;\n",
       "    }\n",
       "\n",
       "    .dataframe thead th {\n",
       "        text-align: left;\n",
       "    }\n",
       "\n",
       "    .dataframe tbody tr th {\n",
       "        vertical-align: top;\n",
       "    }\n",
       "</style>\n",
       "<table border=\"1\" class=\"dataframe\">\n",
       "  <thead>\n",
       "    <tr style=\"text-align: right;\">\n",
       "      <th></th>\n",
       "      <th>April</th>\n",
       "      <th>August</th>\n",
       "      <th>December</th>\n",
       "      <th>February</th>\n",
       "      <th>January</th>\n",
       "      <th>July</th>\n",
       "      <th>June</th>\n",
       "      <th>March</th>\n",
       "      <th>May</th>\n",
       "      <th>November</th>\n",
       "      <th>October</th>\n",
       "      <th>September</th>\n",
       "    </tr>\n",
       "  </thead>\n",
       "  <tbody>\n",
       "    <tr>\n",
       "      <th>0</th>\n",
       "      <td>2.0</td>\n",
       "      <td>8.0</td>\n",
       "      <td>12.0</td>\n",
       "      <td>4.0</td>\n",
       "      <td>6.0</td>\n",
       "      <td>7.0</td>\n",
       "      <td>5.0</td>\n",
       "      <td>1.0</td>\n",
       "      <td>3.0</td>\n",
       "      <td>9.0</td>\n",
       "      <td>11.0</td>\n",
       "      <td>10.0</td>\n",
       "    </tr>\n",
       "    <tr>\n",
       "      <th>1</th>\n",
       "      <td>9.0</td>\n",
       "      <td>5.0</td>\n",
       "      <td>12.0</td>\n",
       "      <td>2.0</td>\n",
       "      <td>1.0</td>\n",
       "      <td>4.0</td>\n",
       "      <td>6.0</td>\n",
       "      <td>3.0</td>\n",
       "      <td>7.0</td>\n",
       "      <td>11.0</td>\n",
       "      <td>10.0</td>\n",
       "      <td>8.0</td>\n",
       "    </tr>\n",
       "    <tr>\n",
       "      <th>2</th>\n",
       "      <td>5.0</td>\n",
       "      <td>7.0</td>\n",
       "      <td>1.0</td>\n",
       "      <td>11.0</td>\n",
       "      <td>12.0</td>\n",
       "      <td>10.0</td>\n",
       "      <td>9.0</td>\n",
       "      <td>8.0</td>\n",
       "      <td>6.0</td>\n",
       "      <td>3.0</td>\n",
       "      <td>2.0</td>\n",
       "      <td>4.0</td>\n",
       "    </tr>\n",
       "    <tr>\n",
       "      <th>3</th>\n",
       "      <td>3.0</td>\n",
       "      <td>7.0</td>\n",
       "      <td>12.0</td>\n",
       "      <td>1.0</td>\n",
       "      <td>6.0</td>\n",
       "      <td>10.0</td>\n",
       "      <td>5.0</td>\n",
       "      <td>9.0</td>\n",
       "      <td>4.0</td>\n",
       "      <td>11.0</td>\n",
       "      <td>8.0</td>\n",
       "      <td>2.0</td>\n",
       "    </tr>\n",
       "    <tr>\n",
       "      <th>4</th>\n",
       "      <td>4.0</td>\n",
       "      <td>6.0</td>\n",
       "      <td>12.0</td>\n",
       "      <td>1.0</td>\n",
       "      <td>2.0</td>\n",
       "      <td>10.0</td>\n",
       "      <td>8.0</td>\n",
       "      <td>3.0</td>\n",
       "      <td>5.0</td>\n",
       "      <td>11.0</td>\n",
       "      <td>9.0</td>\n",
       "      <td>7.0</td>\n",
       "    </tr>\n",
       "    <tr>\n",
       "      <th>5</th>\n",
       "      <td>4.0</td>\n",
       "      <td>8.0</td>\n",
       "      <td>12.0</td>\n",
       "      <td>2.0</td>\n",
       "      <td>1.0</td>\n",
       "      <td>6.0</td>\n",
       "      <td>7.0</td>\n",
       "      <td>3.0</td>\n",
       "      <td>5.0</td>\n",
       "      <td>11.0</td>\n",
       "      <td>10.0</td>\n",
       "      <td>9.0</td>\n",
       "    </tr>\n",
       "    <tr>\n",
       "      <th>6</th>\n",
       "      <td>9.0</td>\n",
       "      <td>4.5</td>\n",
       "      <td>4.5</td>\n",
       "      <td>11.0</td>\n",
       "      <td>12.0</td>\n",
       "      <td>4.5</td>\n",
       "      <td>4.5</td>\n",
       "      <td>10.0</td>\n",
       "      <td>4.5</td>\n",
       "      <td>4.5</td>\n",
       "      <td>4.5</td>\n",
       "      <td>4.5</td>\n",
       "    </tr>\n",
       "  </tbody>\n",
       "</table>\n",
       "</div>"
      ],
      "text/plain": [
       "   April  August  December  February  January  July  June  March  May  \\\n",
       "0    2.0     8.0      12.0       4.0      6.0   7.0   5.0    1.0  3.0   \n",
       "1    9.0     5.0      12.0       2.0      1.0   4.0   6.0    3.0  7.0   \n",
       "2    5.0     7.0       1.0      11.0     12.0  10.0   9.0    8.0  6.0   \n",
       "3    3.0     7.0      12.0       1.0      6.0  10.0   5.0    9.0  4.0   \n",
       "4    4.0     6.0      12.0       1.0      2.0  10.0   8.0    3.0  5.0   \n",
       "5    4.0     8.0      12.0       2.0      1.0   6.0   7.0    3.0  5.0   \n",
       "6    9.0     4.5       4.5      11.0     12.0   4.5   4.5   10.0  4.5   \n",
       "\n",
       "   November  October  September  \n",
       "0       9.0     11.0       10.0  \n",
       "1      11.0     10.0        8.0  \n",
       "2       3.0      2.0        4.0  \n",
       "3      11.0      8.0        2.0  \n",
       "4      11.0      9.0        7.0  \n",
       "5      11.0     10.0        9.0  \n",
       "6       4.5      4.5        4.5  "
      ]
     },
     "execution_count": 14,
     "metadata": {},
     "output_type": "execute_result"
    }
   ],
   "source": [
    "month_avgs.drop('Year', axis=1).rank(axis=1)"
   ]
  },
  {
   "cell_type": "markdown",
   "metadata": {},
   "source": [
    "Months that are later on in the year, such as October/November/December, seem to have higher rank. Although this is likely just due to the increasing trend of cryptocurrency."
   ]
  },
  {
   "cell_type": "code",
   "execution_count": 15,
   "metadata": {},
   "outputs": [
    {
     "data": {
      "text/html": [
       "<div>\n",
       "<style>\n",
       "    .dataframe thead tr:only-child th {\n",
       "        text-align: right;\n",
       "    }\n",
       "\n",
       "    .dataframe thead th {\n",
       "        text-align: left;\n",
       "    }\n",
       "\n",
       "    .dataframe tbody tr th {\n",
       "        vertical-align: top;\n",
       "    }\n",
       "</style>\n",
       "<table border=\"1\" class=\"dataframe\">\n",
       "  <thead>\n",
       "    <tr style=\"text-align: right;\">\n",
       "      <th></th>\n",
       "      <th>April</th>\n",
       "      <th>August</th>\n",
       "      <th>December</th>\n",
       "      <th>February</th>\n",
       "      <th>January</th>\n",
       "      <th>July</th>\n",
       "      <th>June</th>\n",
       "      <th>March</th>\n",
       "      <th>May</th>\n",
       "      <th>November</th>\n",
       "      <th>October</th>\n",
       "      <th>September</th>\n",
       "      <th>Year</th>\n",
       "    </tr>\n",
       "  </thead>\n",
       "  <tbody>\n",
       "    <tr>\n",
       "      <th>0</th>\n",
       "      <td>4.965896</td>\n",
       "      <td>10.873603</td>\n",
       "      <td>13.135257</td>\n",
       "      <td>5.253617</td>\n",
       "      <td>6.210285</td>\n",
       "      <td>7.775188</td>\n",
       "      <td>5.961872</td>\n",
       "      <td>4.948944</td>\n",
       "      <td>5.042166</td>\n",
       "      <td>11.302019</td>\n",
       "      <td>11.580728</td>\n",
       "      <td>11.400267</td>\n",
       "      <td>2012</td>\n",
       "    </tr>\n",
       "    <tr>\n",
       "      <th>1</th>\n",
       "      <td>125.647351</td>\n",
       "      <td>103.386922</td>\n",
       "      <td>791.966258</td>\n",
       "      <td>25.741707</td>\n",
       "      <td>15.311842</td>\n",
       "      <td>85.356419</td>\n",
       "      <td>105.074970</td>\n",
       "      <td>56.956316</td>\n",
       "      <td>117.089728</td>\n",
       "      <td>524.572121</td>\n",
       "      <td>152.340199</td>\n",
       "      <td>124.629855</td>\n",
       "      <td>2013</td>\n",
       "    </tr>\n",
       "    <tr>\n",
       "      <th>2</th>\n",
       "      <td>463.320172</td>\n",
       "      <td>536.095398</td>\n",
       "      <td>343.271350</td>\n",
       "      <td>665.321186</td>\n",
       "      <td>821.757334</td>\n",
       "      <td>617.308501</td>\n",
       "      <td>614.445771</td>\n",
       "      <td>597.555200</td>\n",
       "      <td>483.792634</td>\n",
       "      <td>366.008265</td>\n",
       "      <td>364.137785</td>\n",
       "      <td>445.736664</td>\n",
       "      <td>2014</td>\n",
       "    </tr>\n",
       "    <tr>\n",
       "      <th>3</th>\n",
       "      <td>235.054794</td>\n",
       "      <td>252.569366</td>\n",
       "      <td>422.163076</td>\n",
       "      <td>233.167626</td>\n",
       "      <td>251.840768</td>\n",
       "      <td>279.640755</td>\n",
       "      <td>237.378826</td>\n",
       "      <td>268.402124</td>\n",
       "      <td>236.779634</td>\n",
       "      <td>347.978013</td>\n",
       "      <td>264.736040</td>\n",
       "      <td>233.892409</td>\n",
       "      <td>2015</td>\n",
       "    </tr>\n",
       "    <tr>\n",
       "      <th>4</th>\n",
       "      <td>433.844826</td>\n",
       "      <td>579.044451</td>\n",
       "      <td>821.156849</td>\n",
       "      <td>401.935362</td>\n",
       "      <td>411.403763</td>\n",
       "      <td>661.299670</td>\n",
       "      <td>639.400484</td>\n",
       "      <td>414.765630</td>\n",
       "      <td>460.487036</td>\n",
       "      <td>724.210465</td>\n",
       "      <td>640.967599</td>\n",
       "      <td>604.362367</td>\n",
       "      <td>2016</td>\n",
       "    </tr>\n",
       "    <tr>\n",
       "      <th>5</th>\n",
       "      <td>1212.385282</td>\n",
       "      <td>3836.256386</td>\n",
       "      <td>14904.144063</td>\n",
       "      <td>1059.535756</td>\n",
       "      <td>909.061716</td>\n",
       "      <td>2495.321295</td>\n",
       "      <td>2607.779323</td>\n",
       "      <td>1127.333906</td>\n",
       "      <td>1882.554626</td>\n",
       "      <td>7753.708621</td>\n",
       "      <td>5297.857584</td>\n",
       "      <td>4089.788818</td>\n",
       "      <td>2017</td>\n",
       "    </tr>\n",
       "    <tr>\n",
       "      <th>6</th>\n",
       "      <td>7031.768318</td>\n",
       "      <td>0.000000</td>\n",
       "      <td>0.000000</td>\n",
       "      <td>9360.001801</td>\n",
       "      <td>12854.472549</td>\n",
       "      <td>0.000000</td>\n",
       "      <td>0.000000</td>\n",
       "      <td>8992.810651</td>\n",
       "      <td>0.000000</td>\n",
       "      <td>0.000000</td>\n",
       "      <td>0.000000</td>\n",
       "      <td>0.000000</td>\n",
       "      <td>2018</td>\n",
       "    </tr>\n",
       "  </tbody>\n",
       "</table>\n",
       "</div>"
      ],
      "text/plain": [
       "         April       August      December     February       January  \\\n",
       "0     4.965896    10.873603     13.135257     5.253617      6.210285   \n",
       "1   125.647351   103.386922    791.966258    25.741707     15.311842   \n",
       "2   463.320172   536.095398    343.271350   665.321186    821.757334   \n",
       "3   235.054794   252.569366    422.163076   233.167626    251.840768   \n",
       "4   433.844826   579.044451    821.156849   401.935362    411.403763   \n",
       "5  1212.385282  3836.256386  14904.144063  1059.535756    909.061716   \n",
       "6  7031.768318     0.000000      0.000000  9360.001801  12854.472549   \n",
       "\n",
       "          July         June        March          May     November  \\\n",
       "0     7.775188     5.961872     4.948944     5.042166    11.302019   \n",
       "1    85.356419   105.074970    56.956316   117.089728   524.572121   \n",
       "2   617.308501   614.445771   597.555200   483.792634   366.008265   \n",
       "3   279.640755   237.378826   268.402124   236.779634   347.978013   \n",
       "4   661.299670   639.400484   414.765630   460.487036   724.210465   \n",
       "5  2495.321295  2607.779323  1127.333906  1882.554626  7753.708621   \n",
       "6     0.000000     0.000000  8992.810651     0.000000     0.000000   \n",
       "\n",
       "       October    September  Year  \n",
       "0    11.580728    11.400267  2012  \n",
       "1   152.340199   124.629855  2013  \n",
       "2   364.137785   445.736664  2014  \n",
       "3   264.736040   233.892409  2015  \n",
       "4   640.967599   604.362367  2016  \n",
       "5  5297.857584  4089.788818  2017  \n",
       "6     0.000000     0.000000  2018  "
      ]
     },
     "execution_count": 15,
     "metadata": {},
     "output_type": "execute_result"
    }
   ],
   "source": [
    "month_avgs"
   ]
  },
  {
   "cell_type": "code",
   "execution_count": 18,
   "metadata": {},
   "outputs": [
    {
     "data": {
      "text/plain": [
       "DatetimeIndex(['2011-09-30', '2011-10-01', '2011-10-02', '2011-10-15',\n",
       "               '2011-10-16', '2011-10-18', '2011-10-19', '2011-10-22',\n",
       "               '2011-10-23', '2011-10-27', '2011-11-02', '2011-11-03',\n",
       "               '2011-11-07', '2011-11-23', '2011-11-27', '2011-12-04',\n",
       "               '2011-12-09', '2011-12-17'],\n",
       "              dtype='datetime64[ns]', name='Date', freq=None)"
      ]
     },
     "execution_count": 18,
     "metadata": {},
     "output_type": "execute_result"
    }
   ],
   "source": [
    "btc_ts[btc_ts.price_usd.isnull()].index"
   ]
  },
  {
   "cell_type": "code",
   "execution_count": 19,
   "metadata": {},
   "outputs": [
    {
     "data": {
      "text/plain": [
       "array([ 1.        ,  0.99679247,  0.99307827,  0.98953657,  0.98605033,\n",
       "        0.98255523,  0.97895901,  0.97527755,  0.97185687,  0.96809137,\n",
       "        0.96395094,  0.95923697,  0.95475814,  0.95053666,  0.94651878,\n",
       "        0.9428067 ,  0.9390996 ,  0.93548895,  0.93189407,  0.9279289 ,\n",
       "        0.9234024 ,  0.91809045,  0.912693  ,  0.90729108,  0.90172922,\n",
       "        0.89654926,  0.89133913,  0.88617515,  0.88123057,  0.87616004,\n",
       "        0.87136987,  0.86650126,  0.86171683,  0.85699435,  0.85202901,\n",
       "        0.84721981,  0.84274153,  0.83823562,  0.83367568,  0.82864369,\n",
       "        0.82312447])"
      ]
     },
     "execution_count": 19,
     "metadata": {},
     "output_type": "execute_result"
    }
   ],
   "source": [
    "btc_cut = btc_ts['2011-12-18':]\n",
    "acf(btc_cut)"
   ]
  },
  {
   "cell_type": "code",
   "execution_count": 20,
   "metadata": {},
   "outputs": [
    {
     "data": {
      "text/plain": [
       "array([ 1.        ,  0.99722436, -0.09330179,  0.03774939,  0.00147494,\n",
       "       -0.00363265, -0.01964294, -0.01428683,  0.04697442, -0.07562667,\n",
       "       -0.05479902, -0.10056511,  0.05550801,  0.02656214,  0.03168895,\n",
       "        0.05822281, -0.010901  ,  0.02216898, -0.00962994, -0.05065683,\n",
       "       -0.09284669, -0.13924025, -0.01778043, -0.03241142, -0.03720235,\n",
       "        0.07353075, -0.00972054,  0.02517318,  0.05233205,  0.01433784,\n",
       "        0.08693747, -0.01902226,  0.01035001, -0.03133096, -0.08079014,\n",
       "       -0.00632502,  0.03668701, -0.01800585, -0.01335134, -0.05504004,\n",
       "       -0.06933721])"
      ]
     },
     "execution_count": 20,
     "metadata": {},
     "output_type": "execute_result"
    }
   ],
   "source": [
    "pacf(btc_cut)"
   ]
  },
  {
   "cell_type": "markdown",
   "metadata": {
    "collapsed": true
   },
   "source": [
    "Here, I will be trying to perform a time series analysis on the cryptocurrency prices."
   ]
  },
  {
   "cell_type": "code",
   "execution_count": 21,
   "metadata": {},
   "outputs": [
    {
     "data": {
      "text/html": [
       "<iframe id=\"igraph\" scrolling=\"no\" style=\"border:none;\" seamless=\"seamless\" src=\"https://plot.ly/~AndyVu-Hoang/16.embed\" height=\"525px\" width=\"100%\"></iframe>"
      ],
      "text/plain": [
       "<plotly.tools.PlotlyDisplay object>"
      ]
     },
     "execution_count": 21,
     "metadata": {},
     "output_type": "execute_result"
    }
   ],
   "source": [
    "py.iplot([go.Scatter(x=btc_ts.index, y=btc_ts.price_usd)])"
   ]
  },
  {
   "cell_type": "code",
   "execution_count": 22,
   "metadata": {
    "collapsed": true
   },
   "outputs": [],
   "source": [
    "# since there is a clear increasing trend, i want to try looking at the differenced data\n",
    "def difference(data, lag=1):\n",
    "    diff = list()\n",
    "    for i in range(lag, len(data)):\n",
    "        x = data[i] - data[i-lag]\n",
    "        diff.append(x)\n",
    "    return(pd.Series(diff))"
   ]
  },
  {
   "cell_type": "code",
   "execution_count": 33,
   "metadata": {},
   "outputs": [
    {
     "data": {
      "text/plain": [
       "array([[17],\n",
       "       [18],\n",
       "       [19],\n",
       "       [32],\n",
       "       [33],\n",
       "       [35],\n",
       "       [36],\n",
       "       [39],\n",
       "       [40],\n",
       "       [44],\n",
       "       [50],\n",
       "       [51],\n",
       "       [55],\n",
       "       [71],\n",
       "       [75],\n",
       "       [82],\n",
       "       [87],\n",
       "       [95]], dtype=int64)"
      ]
     },
     "execution_count": 33,
     "metadata": {},
     "output_type": "execute_result"
    }
   ],
   "source": [
    "# checking latest index where there is NaN value \n",
    "np.argwhere(np.isnan(btc_ts.price_usd))"
   ]
  },
  {
   "cell_type": "code",
   "execution_count": 36,
   "metadata": {},
   "outputs": [],
   "source": [
    "# for the time series analysis, I will exclude the last 100 data points in order to use for verification\n",
    "# also excluding data points before latest NaN value\n",
    "btc_d1 = difference(btc_ts.price_usd[96:(len(btc_ts.price_usd)-100)])"
   ]
  },
  {
   "cell_type": "code",
   "execution_count": 39,
   "metadata": {},
   "outputs": [
    {
     "data": {
      "text/plain": [
       "7851376.959159912"
      ]
     },
     "execution_count": 39,
     "metadata": {},
     "output_type": "execute_result"
    }
   ],
   "source": [
    "# checking variances to see how much I should difference, ideal differencing should always reduce variance\n",
    "np.var(btc_ts.price_usd)"
   ]
  },
  {
   "cell_type": "code",
   "execution_count": 41,
   "metadata": {},
   "outputs": [
    {
     "data": {
      "text/plain": [
       "182658.64057719806"
      ]
     },
     "execution_count": 41,
     "metadata": {},
     "output_type": "execute_result"
    }
   ],
   "source": [
    "# variance of differencing weekly\n",
    "np.var(difference(btc_ts.price_usd[96:(len(btc_ts.price_usd)-100)], lag=7))"
   ]
  },
  {
   "cell_type": "code",
   "execution_count": 43,
   "metadata": {},
   "outputs": [
    {
     "data": {
      "text/plain": [
       "974530.2193823421"
      ]
     },
     "execution_count": 43,
     "metadata": {},
     "output_type": "execute_result"
    }
   ],
   "source": [
    "# variance of differencing monthly\n",
    "np.var(difference(btc_ts.price_usd[96:(len(btc_ts.price_usd)-100)], lag=30))"
   ]
  },
  {
   "cell_type": "code",
   "execution_count": 44,
   "metadata": {},
   "outputs": [
    {
     "data": {
      "text/plain": [
       "4931242.369738594"
      ]
     },
     "execution_count": 44,
     "metadata": {},
     "output_type": "execute_result"
    }
   ],
   "source": [
    "# differencing yearly\n",
    "np.var(difference(btc_ts.price_usd[96:(len(btc_ts.price_usd)-100)], lag=365))"
   ]
  },
  {
   "cell_type": "code",
   "execution_count": 46,
   "metadata": {},
   "outputs": [
    {
     "data": {
      "text/plain": [
       "19229.63311301812"
      ]
     },
     "execution_count": 46,
     "metadata": {},
     "output_type": "execute_result"
    }
   ],
   "source": [
    "# daily differencing\n",
    "np.var(btc_d1)"
   ]
  },
  {
   "cell_type": "code",
   "execution_count": 51,
   "metadata": {},
   "outputs": [
    {
     "data": {
      "text/plain": [
       "32299.126232821738"
      ]
     },
     "execution_count": 51,
     "metadata": {},
     "output_type": "execute_result"
    }
   ],
   "source": [
    "# differencing again\n",
    "np.var(difference(btc_d1, lag=1))"
   ]
  },
  {
   "cell_type": "code",
   "execution_count": 27,
   "metadata": {},
   "outputs": [
    {
     "data": {
      "text/html": [
       "<iframe id=\"igraph\" scrolling=\"no\" style=\"border:none;\" seamless=\"seamless\" src=\"https://plot.ly/~AndyVu-Hoang/18.embed\" height=\"525px\" width=\"100%\"></iframe>"
      ],
      "text/plain": [
       "<plotly.tools.PlotlyDisplay object>"
      ]
     },
     "execution_count": 27,
     "metadata": {},
     "output_type": "execute_result"
    }
   ],
   "source": [
    "py.iplot([go.Scatter(x=btc_d1.index, y=btc_d1)])"
   ]
  },
  {
   "cell_type": "code",
   "execution_count": null,
   "metadata": {
    "collapsed": true
   },
   "outputs": [],
   "source": []
  },
  {
   "cell_type": "code",
   "execution_count": null,
   "metadata": {
    "collapsed": true
   },
   "outputs": [],
   "source": []
  }
 ],
 "metadata": {
  "kernelspec": {
   "display_name": "Python 3",
   "language": "python",
   "name": "python3"
  },
  "language_info": {
   "codemirror_mode": {
    "name": "ipython",
    "version": 3
   },
   "file_extension": ".py",
   "mimetype": "text/x-python",
   "name": "python",
   "nbconvert_exporter": "python",
   "pygments_lexer": "ipython3",
   "version": "3.6.2"
  }
 },
 "nbformat": 4,
 "nbformat_minor": 2
}
