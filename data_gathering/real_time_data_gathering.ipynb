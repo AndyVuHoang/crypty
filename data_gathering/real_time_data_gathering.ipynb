{
 "cells": [
  {
   "cell_type": "code",
   "execution_count": 42,
   "metadata": {},
   "outputs": [
    {
     "data": {
      "text/html": [
       "<script>requirejs.config({paths: { 'plotly': ['https://cdn.plot.ly/plotly-latest.min']},});if(!window.Plotly) {{require(['plotly'],function(plotly) {window.Plotly=plotly;});}}</script>"
      ],
      "text/vnd.plotly.v1+html": [
       "<script>requirejs.config({paths: { 'plotly': ['https://cdn.plot.ly/plotly-latest.min']},});if(!window.Plotly) {{require(['plotly'],function(plotly) {window.Plotly=plotly;});}}</script>"
      ]
     },
     "metadata": {},
     "output_type": "display_data"
    }
   ],
   "source": [
    "import pandas as pd\n",
    "import numpy as np\n",
    "import pickle\n",
    "import os\n",
    "import time\n",
    "import matplotlib.pyplot as plt\n",
    "import quandl\n",
    "from datetime import datetime\n",
    "import plotly.offline as py\n",
    "import plotly.graph_objs as go\n",
    "import plotly.figure_factory as ff\n",
    "py.init_notebook_mode(connected=True)"
   ]
  },
  {
   "cell_type": "code",
   "execution_count": 43,
   "metadata": {
    "collapsed": true
   },
   "outputs": [],
   "source": [
    "#Helper function to get BTC exchange's API data\n",
    "def get_quandl_data(quandl_id):\n",
    "    '''Download and cache Quandl dataseries'''\n",
    "    cache_path = '{}.pkl'.format(quandl_id).replace('/','-')\n",
    "    try:\n",
    "        f = open(cache_path, 'rb')\n",
    "        df = pickle.load(f)\n",
    "        print('Loaded {} from cache'.format(quandl_id))\n",
    "    except (OSError, IOError) as e:\n",
    "        print('Downloading {} from cache'.format(quandl_id))\n",
    "        df = quandl.get(quandl_id, returns=\"pandas\")\n",
    "        df.to_pickle(cache_path)\n",
    "        print('Cached {} at {}'.format(quandl_id, cache_path))\n",
    "    return df"
   ]
  },
  {
   "cell_type": "code",
   "execution_count": 44,
   "metadata": {
    "collapsed": true
   },
   "outputs": [],
   "source": [
    "def merge_dfs_on_column(dataframes, labels, col):\n",
    "    '''Merge a single column of each dataframe into a new combined dataframe'''\n",
    "    series_dict = {}\n",
    "    for index in range(len(dataframes)):\n",
    "        series_dict[labels[index]] = dataframes[index][col]\n",
    "\n",
    "    return pd.DataFrame(series_dict)"
   ]
  },
  {
   "cell_type": "code",
   "execution_count": 45,
   "metadata": {},
   "outputs": [
    {
     "name": "stdout",
     "output_type": "stream",
     "text": [
      "Downloading BCHARTS/KRAKENUSD from cache\n",
      "Cached BCHARTS/KRAKENUSD at BCHARTS-KRAKENUSD.pkl\n"
     ]
    }
   ],
   "source": [
    "btc_usd_price_kraken = get_quandl_data('BCHARTS/KRAKENUSD')"
   ]
  },
  {
   "cell_type": "code",
   "execution_count": 46,
   "metadata": {},
   "outputs": [
    {
     "name": "stdout",
     "output_type": "stream",
     "text": [
      "Downloading BCHARTS/COINBASEUSD from cache\n",
      "Cached BCHARTS/COINBASEUSD at BCHARTS-COINBASEUSD.pkl\n",
      "Downloading BCHARTS/BITSTAMPUSD from cache\n",
      "Cached BCHARTS/BITSTAMPUSD at BCHARTS-BITSTAMPUSD.pkl\n",
      "Downloading BCHARTS/ITBITUSD from cache\n",
      "Cached BCHARTS/ITBITUSD at BCHARTS-ITBITUSD.pkl\n"
     ]
    }
   ],
   "source": [
    "exchanges = ['COINBASE','BITSTAMP','ITBIT']\n",
    "\n",
    "exchange_data = {}\n",
    "\n",
    "exchange_data['KRAKEN'] = btc_usd_price_kraken\n",
    "\n",
    "for exchange in exchanges:\n",
    "    exchange_code = 'BCHARTS/{}USD'.format(exchange)\n",
    "    btc_exchange_df = get_quandl_data(exchange_code)\n",
    "    exchange_data[exchange] = btc_exchange_df"
   ]
  },
  {
   "cell_type": "code",
   "execution_count": 47,
   "metadata": {
    "collapsed": true
   },
   "outputs": [],
   "source": [
    "def get_json_data(json_url, cache_path):\n",
    "    '''Download and cache JSON data, return as a dataframe.'''\n",
    "    try:        \n",
    "        f = open(cache_path, 'rb')\n",
    "        df = pickle.load(f)   \n",
    "        print('Loaded {} from cache'.format(json_url))\n",
    "    except (OSError, IOError) as e:\n",
    "        print('Downloading {}'.format(json_url))\n",
    "        df = pd.read_json(json_url)\n",
    "        df.to_pickle(cache_path)\n",
    "        print('Cached {} at {}'.format(json_url, cache_path))\n",
    "    return df"
   ]
  },
  {
   "cell_type": "code",
   "execution_count": 48,
   "metadata": {
    "collapsed": true
   },
   "outputs": [],
   "source": [
    "btc_usd_datasets = merge_dfs_on_column(list(exchange_data.values()), list(exchange_data.keys()), 'Weighted Price')\n",
    "btc_usd_datasets.replace(0, np.nan, inplace=True)"
   ]
  },
  {
   "cell_type": "code",
   "execution_count": 49,
   "metadata": {
    "collapsed": true
   },
   "outputs": [],
   "source": [
    "base_polo_url = 'https://poloniex.com/public?command=returnChartData&currencyPair={}&start={}&end={}&period={}'\n",
    "start_date = datetime.strptime('2018-05-01', '%Y-%m-%d') # get data from the start of 2015\n",
    "#end_date = datetime.strptime('2018-05-02', '%Y-%m-%d') # up until today\n",
    "end_date = datetime.now()\n",
    "pediod = 300 # pull daily data (86,400 seconds per day)\n",
    "\n",
    "def get_crypto_data(poloniex_pair):\n",
    "    '''Retrieve cryptocurrency data from poloniex'''\n",
    "    json_url = base_polo_url.format(poloniex_pair, start_date.timestamp(), end_date.timestamp(), pediod)\n",
    "    data_df = get_json_data(json_url, poloniex_pair)\n",
    "    data_df = data_df.set_index('date')\n",
    "    return data_df"
   ]
  },
  {
   "cell_type": "code",
   "execution_count": 50,
   "metadata": {},
   "outputs": [
    {
     "name": "stdout",
     "output_type": "stream",
     "text": [
      "Downloading https://poloniex.com/public?command=returnChartData&currencyPair=USDT_BTC&start=1525158000.0&end=1525833083.064413&period=300\n",
      "Cached https://poloniex.com/public?command=returnChartData&currencyPair=USDT_BTC&start=1525158000.0&end=1525833083.064413&period=300 at USDT_BTC\n",
      "Downloading https://poloniex.com/public?command=returnChartData&currencyPair=BTC_ETH&start=1525158000.0&end=1525833083.064413&period=300\n",
      "Cached https://poloniex.com/public?command=returnChartData&currencyPair=BTC_ETH&start=1525158000.0&end=1525833083.064413&period=300 at BTC_ETH\n",
      "Downloading https://poloniex.com/public?command=returnChartData&currencyPair=BTC_XRP&start=1525158000.0&end=1525833083.064413&period=300\n",
      "Cached https://poloniex.com/public?command=returnChartData&currencyPair=BTC_XRP&start=1525158000.0&end=1525833083.064413&period=300 at BTC_XRP\n",
      "Downloading https://poloniex.com/public?command=returnChartData&currencyPair=BTC_BCH&start=1525158000.0&end=1525833083.064413&period=300\n",
      "Cached https://poloniex.com/public?command=returnChartData&currencyPair=BTC_BCH&start=1525158000.0&end=1525833083.064413&period=300 at BTC_BCH\n",
      "Downloading https://poloniex.com/public?command=returnChartData&currencyPair=BTC_STR&start=1525158000.0&end=1525833083.064413&period=300\n",
      "Cached https://poloniex.com/public?command=returnChartData&currencyPair=BTC_STR&start=1525158000.0&end=1525833083.064413&period=300 at BTC_STR\n",
      "Downloading https://poloniex.com/public?command=returnChartData&currencyPair=BTC_LTC&start=1525158000.0&end=1525833083.064413&period=300\n",
      "Cached https://poloniex.com/public?command=returnChartData&currencyPair=BTC_LTC&start=1525158000.0&end=1525833083.064413&period=300 at BTC_LTC\n",
      "Downloading https://poloniex.com/public?command=returnChartData&currencyPair=BTC_XMR&start=1525158000.0&end=1525833083.064413&period=300\n",
      "Cached https://poloniex.com/public?command=returnChartData&currencyPair=BTC_XMR&start=1525158000.0&end=1525833083.064413&period=300 at BTC_XMR\n",
      "Downloading https://poloniex.com/public?command=returnChartData&currencyPair=BTC_ETC&start=1525158000.0&end=1525833083.064413&period=300\n",
      "Cached https://poloniex.com/public?command=returnChartData&currencyPair=BTC_ETC&start=1525158000.0&end=1525833083.064413&period=300 at BTC_ETC\n",
      "Downloading https://poloniex.com/public?command=returnChartData&currencyPair=BTC_ZEC&start=1525158000.0&end=1525833083.064413&period=300\n",
      "Cached https://poloniex.com/public?command=returnChartData&currencyPair=BTC_ZEC&start=1525158000.0&end=1525833083.064413&period=300 at BTC_ZEC\n",
      "Downloading https://poloniex.com/public?command=returnChartData&currencyPair=BTC_DOGE&start=1525158000.0&end=1525833083.064413&period=300\n",
      "Cached https://poloniex.com/public?command=returnChartData&currencyPair=BTC_DOGE&start=1525158000.0&end=1525833083.064413&period=300 at BTC_DOGE\n",
      "Downloading https://poloniex.com/public?command=returnChartData&currencyPair=BTC_LSK&start=1525158000.0&end=1525833083.064413&period=300\n",
      "Cached https://poloniex.com/public?command=returnChartData&currencyPair=BTC_LSK&start=1525158000.0&end=1525833083.064413&period=300 at BTC_LSK\n",
      "Downloading https://poloniex.com/public?command=returnChartData&currencyPair=BTC_BTS&start=1525158000.0&end=1525833083.064413&period=300\n",
      "Cached https://poloniex.com/public?command=returnChartData&currencyPair=BTC_BTS&start=1525158000.0&end=1525833083.064413&period=300 at BTC_BTS\n",
      "Downloading https://poloniex.com/public?command=returnChartData&currencyPair=BTC_SC&start=1525158000.0&end=1525833083.064413&period=300\n",
      "Cached https://poloniex.com/public?command=returnChartData&currencyPair=BTC_SC&start=1525158000.0&end=1525833083.064413&period=300 at BTC_SC\n",
      "Downloading https://poloniex.com/public?command=returnChartData&currencyPair=BTC_XEM&start=1525158000.0&end=1525833083.064413&period=300\n",
      "Cached https://poloniex.com/public?command=returnChartData&currencyPair=BTC_XEM&start=1525158000.0&end=1525833083.064413&period=300 at BTC_XEM\n",
      "Downloading https://poloniex.com/public?command=returnChartData&currencyPair=BTC_DASH&start=1525158000.0&end=1525833083.064413&period=300\n",
      "Cached https://poloniex.com/public?command=returnChartData&currencyPair=BTC_DASH&start=1525158000.0&end=1525833083.064413&period=300 at BTC_DASH\n",
      "Downloading https://poloniex.com/public?command=returnChartData&currencyPair=BTC_STRAT&start=1525158000.0&end=1525833083.064413&period=300\n",
      "Cached https://poloniex.com/public?command=returnChartData&currencyPair=BTC_STRAT&start=1525158000.0&end=1525833083.064413&period=300 at BTC_STRAT\n",
      "Downloading https://poloniex.com/public?command=returnChartData&currencyPair=BTC_DGB&start=1525158000.0&end=1525833083.064413&period=300\n",
      "Cached https://poloniex.com/public?command=returnChartData&currencyPair=BTC_DGB&start=1525158000.0&end=1525833083.064413&period=300 at BTC_DGB\n",
      "Downloading https://poloniex.com/public?command=returnChartData&currencyPair=BTC_NXT&start=1525158000.0&end=1525833083.064413&period=300\n",
      "Cached https://poloniex.com/public?command=returnChartData&currencyPair=BTC_NXT&start=1525158000.0&end=1525833083.064413&period=300 at BTC_NXT\n",
      "Downloading https://poloniex.com/public?command=returnChartData&currencyPair=BTC_ZRX&start=1525158000.0&end=1525833083.064413&period=300\n",
      "Cached https://poloniex.com/public?command=returnChartData&currencyPair=BTC_ZRX&start=1525158000.0&end=1525833083.064413&period=300 at BTC_ZRX\n"
     ]
    }
   ],
   "source": [
    "cryptos = ['ETH','XRP','BCH','STR','LTC','XMR','ETC','ZEC','DOGE','LSK','BTS','SC','XEM','DASH','STRAT','DGB','NXT','ZRX']\n",
    "\n",
    "crypto_data = {}\n",
    "crypto_price_df = get_crypto_data('USDT_BTC')\n",
    "crypto_data['USDT'] = crypto_price_df\n",
    "for c in cryptos:\n",
    "    coinpair = 'BTC_{}'.format(c)\n",
    "    crypto_price_df = get_crypto_data(coinpair)\n",
    "    crypto_data[c] = crypto_price_df\n",
    "#crypto_data['BTC']=btc_usd_price_kraken"
   ]
  },
  {
   "cell_type": "code",
   "execution_count": 51,
   "metadata": {
    "collapsed": true
   },
   "outputs": [],
   "source": [
    "# Calculate the average BTC price as a new column\n",
    "btc_usd_datasets['avg_btc_price_usd'] = btc_usd_datasets.mean(axis=1)\n",
    "#Calculate USD Price as a new column in each crypto dataframe\n",
    "for c in crypto_data.keys():\n",
    "    if c != 'USDT':\n",
    "        crypto_data[c]['price_usd'] =  crypto_data[c]['weightedAverage'] * crypto_data['USDT']['weightedAverage']"
   ]
  },
  {
   "cell_type": "code",
   "execution_count": 52,
   "metadata": {
    "collapsed": true
   },
   "outputs": [],
   "source": [
    "#crypto_data['BTC']=btc_usd_datasets\n",
    "#crypto_data['BTC']['price_usd'] = crypto_data['BTC']['avg_btc_price_usd']"
   ]
  },
  {
   "cell_type": "code",
   "execution_count": 53,
   "metadata": {
    "collapsed": true
   },
   "outputs": [],
   "source": [
    "#combined_df = merge_dfs_on_column(list(crypto_data.values()), list(crypto_data.keys()), 'price_usd')"
   ]
  },
  {
   "cell_type": "code",
   "execution_count": 54,
   "metadata": {
    "collapsed": true
   },
   "outputs": [],
   "source": [
    "#save all of the cryptocurrency data as individual csv files\n",
    "for key in crypto_data.keys():\n",
    "    crypto_data[key].to_csv('{}.csv'.format(key))"
   ]
  },
  {
   "cell_type": "code",
   "execution_count": 55,
   "metadata": {},
   "outputs": [
    {
     "data": {
      "text/html": [
       "<div>\n",
       "<style>\n",
       "    .dataframe thead tr:only-child th {\n",
       "        text-align: right;\n",
       "    }\n",
       "\n",
       "    .dataframe thead th {\n",
       "        text-align: left;\n",
       "    }\n",
       "\n",
       "    .dataframe tbody tr th {\n",
       "        vertical-align: top;\n",
       "    }\n",
       "</style>\n",
       "<table border=\"1\" class=\"dataframe\">\n",
       "  <thead>\n",
       "    <tr style=\"text-align: right;\">\n",
       "      <th></th>\n",
       "      <th>close</th>\n",
       "      <th>high</th>\n",
       "      <th>low</th>\n",
       "      <th>open</th>\n",
       "      <th>quoteVolume</th>\n",
       "      <th>volume</th>\n",
       "      <th>weightedAverage</th>\n",
       "      <th>price_usd</th>\n",
       "    </tr>\n",
       "    <tr>\n",
       "      <th>date</th>\n",
       "      <th></th>\n",
       "      <th></th>\n",
       "      <th></th>\n",
       "      <th></th>\n",
       "      <th></th>\n",
       "      <th></th>\n",
       "      <th></th>\n",
       "      <th></th>\n",
       "    </tr>\n",
       "  </thead>\n",
       "  <tbody>\n",
       "    <tr>\n",
       "      <th>2018-05-09 02:10:00</th>\n",
       "      <td>0.017259</td>\n",
       "      <td>0.017290</td>\n",
       "      <td>0.017230</td>\n",
       "      <td>0.017233</td>\n",
       "      <td>0.630038</td>\n",
       "      <td>0.010874</td>\n",
       "      <td>0.017259</td>\n",
       "      <td>158.243397</td>\n",
       "    </tr>\n",
       "    <tr>\n",
       "      <th>2018-05-09 02:15:00</th>\n",
       "      <td>0.017229</td>\n",
       "      <td>0.017259</td>\n",
       "      <td>0.017229</td>\n",
       "      <td>0.017259</td>\n",
       "      <td>37.069527</td>\n",
       "      <td>0.638711</td>\n",
       "      <td>0.017230</td>\n",
       "      <td>157.763577</td>\n",
       "    </tr>\n",
       "    <tr>\n",
       "      <th>2018-05-09 02:20:00</th>\n",
       "      <td>0.017149</td>\n",
       "      <td>0.017253</td>\n",
       "      <td>0.017003</td>\n",
       "      <td>0.017253</td>\n",
       "      <td>739.161864</td>\n",
       "      <td>12.613795</td>\n",
       "      <td>0.017065</td>\n",
       "      <td>155.826489</td>\n",
       "    </tr>\n",
       "    <tr>\n",
       "      <th>2018-05-09 02:25:00</th>\n",
       "      <td>0.017120</td>\n",
       "      <td>0.017149</td>\n",
       "      <td>0.017060</td>\n",
       "      <td>0.017149</td>\n",
       "      <td>94.686019</td>\n",
       "      <td>1.616633</td>\n",
       "      <td>0.017074</td>\n",
       "      <td>156.032463</td>\n",
       "    </tr>\n",
       "    <tr>\n",
       "      <th>2018-05-09 02:30:00</th>\n",
       "      <td>0.017095</td>\n",
       "      <td>0.017120</td>\n",
       "      <td>0.017095</td>\n",
       "      <td>0.017120</td>\n",
       "      <td>22.008794</td>\n",
       "      <td>0.376290</td>\n",
       "      <td>0.017097</td>\n",
       "      <td>155.978659</td>\n",
       "    </tr>\n",
       "  </tbody>\n",
       "</table>\n",
       "</div>"
      ],
      "text/plain": [
       "                        close      high       low      open  quoteVolume  \\\n",
       "date                                                                       \n",
       "2018-05-09 02:10:00  0.017259  0.017290  0.017230  0.017233     0.630038   \n",
       "2018-05-09 02:15:00  0.017229  0.017259  0.017229  0.017259    37.069527   \n",
       "2018-05-09 02:20:00  0.017149  0.017253  0.017003  0.017253   739.161864   \n",
       "2018-05-09 02:25:00  0.017120  0.017149  0.017060  0.017149    94.686019   \n",
       "2018-05-09 02:30:00  0.017095  0.017120  0.017095  0.017120    22.008794   \n",
       "\n",
       "                        volume  weightedAverage   price_usd  \n",
       "date                                                         \n",
       "2018-05-09 02:10:00   0.010874         0.017259  158.243397  \n",
       "2018-05-09 02:15:00   0.638711         0.017230  157.763577  \n",
       "2018-05-09 02:20:00  12.613795         0.017065  155.826489  \n",
       "2018-05-09 02:25:00   1.616633         0.017074  156.032463  \n",
       "2018-05-09 02:30:00   0.376290         0.017097  155.978659  "
      ]
     },
     "execution_count": 55,
     "metadata": {},
     "output_type": "execute_result"
    }
   ],
   "source": [
    "crypto_data['LTC'].tail()"
   ]
  },
  {
   "cell_type": "code",
   "execution_count": null,
   "metadata": {
    "collapsed": true
   },
   "outputs": [],
   "source": []
  }
 ],
 "metadata": {
  "kernelspec": {
   "display_name": "Python 3",
   "language": "python",
   "name": "python3"
  },
  "language_info": {
   "codemirror_mode": {
    "name": "ipython",
    "version": 3
   },
   "file_extension": ".py",
   "mimetype": "text/x-python",
   "name": "python",
   "nbconvert_exporter": "python",
   "pygments_lexer": "ipython3",
   "version": "3.6.2"
  }
 },
 "nbformat": 4,
 "nbformat_minor": 2
}
