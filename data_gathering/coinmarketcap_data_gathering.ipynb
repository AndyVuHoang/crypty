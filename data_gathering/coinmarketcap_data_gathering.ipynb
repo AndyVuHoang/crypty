{
 "cells": [
  {
   "cell_type": "code",
   "execution_count": 1,
   "metadata": {
    "collapsed": true
   },
   "outputs": [],
   "source": [
    "import pandas as pd\n",
    "import time\n",
    "import matplotlib.pyplot as plt"
   ]
  },
  {
   "cell_type": "code",
   "execution_count": 2,
   "metadata": {
    "collapsed": true
   },
   "outputs": [],
   "source": [
    "def get_data(crypto_name):\n",
    "    info = pd.read_html(\"https://coinmarketcap.com/currencies/\"+crypto_name+\"/historical-data/?start=20130428&end=\"+time.strftime(\"%Y%m%d\"))[0]\n",
    "    info = info.assign(Date=pd.to_datetime(info['Date']))\n",
    "    if crypto_name == 'bitcoin':\n",
    "        info.loc[info['Volume']==\"-\",'Volume']=0\n",
    "        info['Volume'] = info['Volume'].astype('int64')\n",
    "    return info\n"
   ]
  },
  {
   "cell_type": "code",
   "execution_count": null,
   "metadata": {
    "collapsed": true
   },
   "outputs": [],
   "source": [
    "bitcoin_info = get_data('bitcoin')\n",
    "#ethereum_info = get_data('ethereum')\n",
    "#ripple_info = get_data('ripple')\n",
    "#bitcoin_cash_info = get_data('bitcoin-cash')\n",
    "#cardano_info = get_data('cardano')\n",
    "#litecoin_info = get_data('litecoin')\n",
    "#stellar_info = get_data('stellar')\n",
    "#neo_info = get_data('neo')\n",
    "#eos_info = get_data('eos')\n",
    "#nem_info = get_data('nem')\n",
    "#iota_info = get_data('iota')\n",
    "#dash_info = get_data('dash')\n",
    "#monero_info = get_data('monero')\n",
    "#tron_info = get_data('tron')\n",
    "#lisk_info = get_data('lisk')\n",
    "#vechain_info = get_data('vechain')\n",
    "#ethereum_classic_info = get_data('ethereum-classic')\n",
    "#populous_info = get_data('populous')\n",
    "#qtum_info = get_data('qtum')\n",
    "#nano_info = get_data('nano')\n",
    "#tether_info = get_data('tether')\n",
    "#icon_info = get_data('icon')\n",
    "#bitcoin_gold_info = get_data('bitcoin-gold')\n",
    "#omisego_info = get_data('omisego')\n",
    "#zcash_info = get_data('zcash')"
   ]
  },
  {
   "cell_type": "code",
   "execution_count": 12,
   "metadata": {
    "collapsed": true,
    "scrolled": true
   },
   "outputs": [],
   "source": [
    "bitcoin_info.head()\n",
    "type(bitcoin_info)\n",
    "bitcoin_info.to_csv(\"data/bitcoin.csv\")"
   ]
  },
  {
   "cell_type": "code",
   "execution_count": 18,
   "metadata": {
    "collapsed": true
   },
   "outputs": [],
   "source": [
    "list_crypto_info = [bitcoin_info,ethereum_info,ripple_info,bitcoin_cash_info,cardano_info,litecoin_info,stellar_info,neo_info,eos_info,nem_info,iota_info,dash_info,monero_info,tron_info,lisk_info,vechain_info,ethereum_classic_info,populous_info,qtum_info]\n"
   ]
  },
  {
   "cell_type": "code",
   "execution_count": 25,
   "metadata": {},
   "outputs": [
    {
     "data": {
      "image/png": "[encoded data removed]",
      "text/plain": [
       "<matplotlib.figure.Figure at 0x281121d7be0>"
      ]
     },
     "metadata": {},
     "output_type": "display_data"
    }
   ],
   "source": [
    "fig = plt.figure()\n",
    "\n",
    "for frame in list_crypto_info:\n",
    "    plt.plot(frame['Date'], frame['Close'])"
   ]
  },
  {
   "cell_type": "code",
   "execution_count": null,
   "metadata": {
    "collapsed": true
   },
   "outputs": [],
   "source": []
  }
 ],
 "metadata": {
  "kernelspec": {
   "display_name": "Python 3",
   "language": "python",
   "name": "python3"
  },
  "language_info": {
   "codemirror_mode": {
    "name": "ipython",
    "version": 3
   },
   "file_extension": ".py",
   "mimetype": "text/x-python",
   "name": "python",
   "nbconvert_exporter": "python",
   "pygments_lexer": "ipython3",
   "version": "3.6.2"
  }
 },
 "nbformat": 4,
 "nbformat_minor": 2
}
