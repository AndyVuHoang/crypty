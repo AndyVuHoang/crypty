{
 "cells": [
  {
   "cell_type": "code",
   "execution_count": 2,
   "metadata": {},
   "outputs": [],
   "source": [
    "import pandas as pd\n",
    "import matplotlib as mpl\n",
    "from matplotlib import pyplot\n",
    "from datetime import datetime\n",
    "import plotly\n",
    "import plotly.graph_objs as go\n",
    "import numpy as np\n",
    "\n",
    "#dow = pd.read_csv(\"data_gathering/data/DJI.csv\")\n",
    "btc = pd.read_csv(\"data_gathering/data/BTC.csv\")"
   ]
  },
  {
   "cell_type": "code",
   "execution_count": 3,
   "metadata": {},
   "outputs": [],
   "source": [
    "from IPython.display import HTML\n",
    "plotly.tools.set_credentials_file(username=\"AndyVu-Hoang\", api_key=\"9Ut7brZV1YJ1eDk0aNyw\")"
   ]
  },
  {
   "cell_type": "code",
   "execution_count": 4,
   "metadata": {},
   "outputs": [
    {
     "data": {
      "text/html": [
       "<div>\n",
       "<style scoped>\n",
       "    .dataframe tbody tr th:only-of-type {\n",
       "        vertical-align: middle;\n",
       "    }\n",
       "\n",
       "    .dataframe tbody tr th {\n",
       "        vertical-align: top;\n",
       "    }\n",
       "\n",
       "    .dataframe thead th {\n",
       "        text-align: right;\n",
       "    }\n",
       "</style>\n",
       "<table border=\"1\" class=\"dataframe\">\n",
       "  <thead>\n",
       "    <tr style=\"text-align: right;\">\n",
       "      <th></th>\n",
       "      <th>Date</th>\n",
       "      <th>BITSTAMP</th>\n",
       "      <th>COINBASE</th>\n",
       "      <th>ITBIT</th>\n",
       "      <th>KRAKEN</th>\n",
       "      <th>avg_btc_price_usd</th>\n",
       "      <th>price_usd</th>\n",
       "    </tr>\n",
       "  </thead>\n",
       "  <tbody>\n",
       "    <tr>\n",
       "      <th>2400</th>\n",
       "      <td>4/9/2018</td>\n",
       "      <td>6839.423990</td>\n",
       "      <td>6854.045507</td>\n",
       "      <td>6883.028037</td>\n",
       "      <td>6844.344700</td>\n",
       "      <td>6855.210559</td>\n",
       "      <td>6855.210559</td>\n",
       "    </tr>\n",
       "    <tr>\n",
       "      <th>2401</th>\n",
       "      <td>4/10/2018</td>\n",
       "      <td>6786.642319</td>\n",
       "      <td>6791.874050</td>\n",
       "      <td>6779.679059</td>\n",
       "      <td>6780.155652</td>\n",
       "      <td>6784.587770</td>\n",
       "      <td>6784.587770</td>\n",
       "    </tr>\n",
       "    <tr>\n",
       "      <th>2402</th>\n",
       "      <td>4/11/2018</td>\n",
       "      <td>6894.958433</td>\n",
       "      <td>6893.791740</td>\n",
       "      <td>6886.717021</td>\n",
       "      <td>6887.136386</td>\n",
       "      <td>6890.650895</td>\n",
       "      <td>6890.650895</td>\n",
       "    </tr>\n",
       "    <tr>\n",
       "      <th>2403</th>\n",
       "      <td>4/12/2018</td>\n",
       "      <td>7548.015149</td>\n",
       "      <td>7546.063852</td>\n",
       "      <td>7476.781733</td>\n",
       "      <td>7542.264352</td>\n",
       "      <td>7528.281271</td>\n",
       "      <td>7528.281271</td>\n",
       "    </tr>\n",
       "    <tr>\n",
       "      <th>2404</th>\n",
       "      <td>4/13/2018</td>\n",
       "      <td>8035.266915</td>\n",
       "      <td>7998.148796</td>\n",
       "      <td>8016.838673</td>\n",
       "      <td>8003.545154</td>\n",
       "      <td>8013.449884</td>\n",
       "      <td>8013.449884</td>\n",
       "    </tr>\n",
       "  </tbody>\n",
       "</table>\n",
       "</div>"
      ],
      "text/plain": [
       "           Date     BITSTAMP     COINBASE        ITBIT       KRAKEN  \\\n",
       "2400   4/9/2018  6839.423990  6854.045507  6883.028037  6844.344700   \n",
       "2401  4/10/2018  6786.642319  6791.874050  6779.679059  6780.155652   \n",
       "2402  4/11/2018  6894.958433  6893.791740  6886.717021  6887.136386   \n",
       "2403  4/12/2018  7548.015149  7546.063852  7476.781733  7542.264352   \n",
       "2404  4/13/2018  8035.266915  7998.148796  8016.838673  8003.545154   \n",
       "\n",
       "      avg_btc_price_usd    price_usd  \n",
       "2400        6855.210559  6855.210559  \n",
       "2401        6784.587770  6784.587770  \n",
       "2402        6890.650895  6890.650895  \n",
       "2403        7528.281271  7528.281271  \n",
       "2404        8013.449884  8013.449884  "
      ]
     },
     "execution_count": 4,
     "metadata": {},
     "output_type": "execute_result"
    }
   ],
   "source": [
    "btc.tail()"
   ]
  },
  {
   "cell_type": "code",
   "execution_count": 7,
   "metadata": {
    "collapsed": true
   },
   "outputs": [],
   "source": [
    "# the dates are in different formats\n",
    "# converting to datetime\n",
    "# dow['Date'] = pd.to_datetime(dow['Date'])\n",
    "btc['Date'] = pd.to_datetime(btc['Date'])"
   ]
  },
  {
   "cell_type": "code",
   "execution_count": 6,
   "metadata": {},
   "outputs": [],
   "source": [
    "btc_ts = btc[['price_usd']]\n",
    "btc_ts.index = btc['Date']"
   ]
  },
  {
   "cell_type": "code",
   "execution_count": 9,
   "metadata": {},
   "outputs": [
    {
     "data": {
      "text/plain": [
       "DatetimeIndex(['2011-09-13', '2011-09-14', '2011-09-15', '2011-09-16',\n",
       "               '2011-09-17', '2011-09-18', '2011-09-19', '2011-09-20',\n",
       "               '2011-09-21', '2011-09-22',\n",
       "               ...\n",
       "               '2018-04-04', '2018-04-05', '2018-04-06', '2018-04-07',\n",
       "               '2018-04-08', '2018-04-09', '2018-04-10', '2018-04-11',\n",
       "               '2018-04-12', '2018-04-13'],\n",
       "              dtype='datetime64[ns]', name='Date', length=2405, freq=None)"
      ]
     },
     "execution_count": 9,
     "metadata": {},
     "output_type": "execute_result"
    }
   ],
   "source": [
    "btc_ts.index"
   ]
  },
  {
   "cell_type": "code",
   "execution_count": 10,
   "metadata": {},
   "outputs": [
    {
     "data": {
      "text/plain": [
       "Date\n",
       "2011-09-13       5.929231\n",
       "2011-09-14       5.590798\n",
       "2011-09-15       5.094272\n",
       "2011-09-16       4.854515\n",
       "2011-09-17       4.870000\n",
       "2011-09-18       4.839576\n",
       "2011-09-19       4.900000\n",
       "2011-09-20       5.388054\n",
       "2011-09-21       5.706075\n",
       "2011-09-22       5.696960\n",
       "2011-09-23       5.707099\n",
       "2011-09-24       5.722494\n",
       "2011-09-25       6.050000\n",
       "2011-09-26       5.983073\n",
       "2011-09-27       4.895402\n",
       "2011-09-28       4.862498\n",
       "2011-09-29       4.816345\n",
       "2011-09-30            NaN\n",
       "2011-10-01            NaN\n",
       "2011-10-02            NaN\n",
       "2011-10-03       4.847772\n",
       "2011-10-04       4.924737\n",
       "2011-10-05       5.029419\n",
       "2011-10-06       4.908846\n",
       "2011-10-07       4.687629\n",
       "2011-10-08       4.455536\n",
       "2011-10-09       3.890000\n",
       "2011-10-10       4.498302\n",
       "2011-10-11       3.998965\n",
       "2011-10-12       3.943964\n",
       "                 ...     \n",
       "2018-03-15    8067.795078\n",
       "2018-03-16    8301.331495\n",
       "2018-03-17    8039.581190\n",
       "2018-03-18    7670.518666\n",
       "2018-03-19    8383.159592\n",
       "2018-03-20    8687.915179\n",
       "2018-03-21    8965.557594\n",
       "2018-03-22    8751.157018\n",
       "2018-03-23    8534.928842\n",
       "2018-03-24    8819.217773\n",
       "2018-03-25    8520.438100\n",
       "2018-03-26    8160.370440\n",
       "2018-03-27    7951.409267\n",
       "2018-03-28    7918.357757\n",
       "2018-03-29    7393.662244\n",
       "2018-03-30    6853.650658\n",
       "2018-03-31    7015.388928\n",
       "2018-04-01    6723.150013\n",
       "2018-04-02    6985.190921\n",
       "2018-04-03    7335.245572\n",
       "2018-04-04    7023.575847\n",
       "2018-04-05    6742.288573\n",
       "2018-04-06    6642.255407\n",
       "2018-04-07    6894.554754\n",
       "2018-04-08    6994.546667\n",
       "2018-04-09    6855.210559\n",
       "2018-04-10    6784.587770\n",
       "2018-04-11    6890.650895\n",
       "2018-04-12    7528.281271\n",
       "2018-04-13    8013.449884\n",
       "Name: price_usd, Length: 2405, dtype: float64"
      ]
     },
     "execution_count": 10,
     "metadata": {},
     "output_type": "execute_result"
    }
   ],
   "source": [
    "btc_ts.price_usd"
   ]
  },
  {
   "cell_type": "code",
   "execution_count": 108,
   "metadata": {},
   "outputs": [
    {
     "data": {
      "text/html": [
       "<iframe id=\"igraph\" scrolling=\"no\" style=\"border:none;\" seamless=\"seamless\" src=\"https://plot.ly/~AndyVu-Hoang/24.embed\" height=\"525px\" width=\"100%\"></iframe>"
      ],
      "text/plain": [
       "<plotly.tools.PlotlyDisplay object>"
      ]
     },
     "execution_count": 108,
     "metadata": {},
     "output_type": "execute_result"
    }
   ],
   "source": [
    "py.iplot([go.Scatter(x=btc_ts.index, y=btc_ts.price_usd)])\n"
   ]
  },
  {
   "cell_type": "code",
   "execution_count": 106,
   "metadata": {},
   "outputs": [
    {
     "data": {
      "image/png": "[encoded data removed]",
      "text/plain": [
       "<matplotlib.figure.Figure at 0x189a9912630>"
      ]
     },
     "metadata": {},
     "output_type": "display_data"
    }
   ],
   "source": [
    "# there is clearly an increasing trend for the price of bitcoin\n",
    "# checking for seasonality\n",
    "X = btc_ts.values\n",
    "diff = list()\n",
    "days_in_year = 365\n",
    "for i in range(days_in_year, len(X)):\n",
    "    value = X[i] - X[i-days_in_year]\n",
    "    diff.append(value)\n",
    "pyplot.plot(diff)\n",
    "pyplot.show()"
   ]
  },
  {
   "cell_type": "code",
   "execution_count": 107,
   "metadata": {},
   "outputs": [
    {
     "ename": "AttributeError",
     "evalue": "'Index' object has no attribute 'month'",
     "output_type": "error",
     "traceback": [
      "\u001b[1;31m---------------------------------------------------------------------------\u001b[0m",
      "\u001b[1;31mAttributeError\u001b[0m                            Traceback (most recent call last)",
      "\u001b[1;32m<ipython-input-107-2d8d93ffa3e6>\u001b[0m in \u001b[0;36m<module>\u001b[1;34m()\u001b[0m\n\u001b[0;32m      1\u001b[0m \u001b[1;31m# checking if certain months have better average prices for the year\u001b[0m\u001b[1;33m\u001b[0m\u001b[1;33m\u001b[0m\u001b[0m\n\u001b[1;32m----> 2\u001b[1;33m \u001b[0mbtc_ts\u001b[0m\u001b[1;33m.\u001b[0m\u001b[0mindex\u001b[0m\u001b[1;33m.\u001b[0m\u001b[0mmonth\u001b[0m\u001b[1;33m\u001b[0m\u001b[0m\n\u001b[0m\u001b[0;32m      3\u001b[0m \u001b[0mmonth_avgs\u001b[0m \u001b[1;33m=\u001b[0m \u001b[1;33m[\u001b[0m\u001b[1;33m]\u001b[0m\u001b[1;33m\u001b[0m\u001b[0m\n\u001b[0;32m      4\u001b[0m \u001b[1;32mfor\u001b[0m \u001b[0mi\u001b[0m \u001b[1;32min\u001b[0m \u001b[0mrange\u001b[0m\u001b[1;33m(\u001b[0m\u001b[1;36m2012\u001b[0m\u001b[1;33m,\u001b[0m \u001b[1;36m2019\u001b[0m\u001b[1;33m)\u001b[0m\u001b[1;33m:\u001b[0m\u001b[1;33m\u001b[0m\u001b[0m\n\u001b[0;32m      5\u001b[0m     \u001b[0mmonths\u001b[0m \u001b[1;33m=\u001b[0m \u001b[0mlist\u001b[0m\u001b[1;33m(\u001b[0m\u001b[1;33m)\u001b[0m\u001b[1;33m\u001b[0m\u001b[0m\n",
      "\u001b[1;31mAttributeError\u001b[0m: 'Index' object has no attribute 'month'"
     ]
    }
   ],
   "source": [
    "# checking if certain months have better average prices for the year\n",
    "btc_ts.index.month\n",
    "month_avgs = []\n",
    "for i in range(2012, 2019):\n",
    "    months = list()\n",
    "    for j in range(1,13):\n",
    "        m_y = btc_ts[btc_ts.index.year==i]\n",
    "        m = m_y[m_y.index.month==j]\n",
    "        if(len(m.price_usd)!=0):\n",
    "            avg = sum(m.price_usd)/len(m.price_usd)\n",
    "            months.append(avg)\n",
    "        else:\n",
    "            months.append(0)\n",
    "    month_avgs.append({'Year': i, 'January': months[0], 'February': months[1], 'March': months[2],\n",
    "                      'April': months[3], 'May': months[4], 'June': months[5], 'July': months[6],\n",
    "                      'August': months[7], 'September': months[8], 'October': months[9], \n",
    "                      'November': months[10], 'December': months[11]})"
   ]
  },
  {
   "cell_type": "code",
   "execution_count": 13,
   "metadata": {
    "collapsed": true
   },
   "outputs": [],
   "source": [
    "month_avgs = pd.DataFrame(month_avgs)"
   ]
  },
  {
   "cell_type": "code",
   "execution_count": 14,
   "metadata": {},
   "outputs": [
    {
     "data": {
      "text/html": [
       "<div>\n",
       "<style>\n",
       "    .dataframe thead tr:only-child th {\n",
       "        text-align: right;\n",
       "    }\n",
       "\n",
       "    .dataframe thead th {\n",
       "        text-align: left;\n",
       "    }\n",
       "\n",
       "    .dataframe tbody tr th {\n",
       "        vertical-align: top;\n",
       "    }\n",
       "</style>\n",
       "<table border=\"1\" class=\"dataframe\">\n",
       "  <thead>\n",
       "    <tr style=\"text-align: right;\">\n",
       "      <th></th>\n",
       "      <th>April</th>\n",
       "      <th>August</th>\n",
       "      <th>December</th>\n",
       "      <th>February</th>\n",
       "      <th>January</th>\n",
       "      <th>July</th>\n",
       "      <th>June</th>\n",
       "      <th>March</th>\n",
       "      <th>May</th>\n",
       "      <th>November</th>\n",
       "      <th>October</th>\n",
       "      <th>September</th>\n",
       "    </tr>\n",
       "  </thead>\n",
       "  <tbody>\n",
       "    <tr>\n",
       "      <th>0</th>\n",
       "      <td>2.0</td>\n",
       "      <td>8.0</td>\n",
       "      <td>12.0</td>\n",
       "      <td>4.0</td>\n",
       "      <td>6.0</td>\n",
       "      <td>7.0</td>\n",
       "      <td>5.0</td>\n",
       "      <td>1.0</td>\n",
       "      <td>3.0</td>\n",
       "      <td>9.0</td>\n",
       "      <td>11.0</td>\n",
       "      <td>10.0</td>\n",
       "    </tr>\n",
       "    <tr>\n",
       "      <th>1</th>\n",
       "      <td>9.0</td>\n",
       "      <td>5.0</td>\n",
       "      <td>12.0</td>\n",
       "      <td>2.0</td>\n",
       "      <td>1.0</td>\n",
       "      <td>4.0</td>\n",
       "      <td>6.0</td>\n",
       "      <td>3.0</td>\n",
       "      <td>7.0</td>\n",
       "      <td>11.0</td>\n",
       "      <td>10.0</td>\n",
       "      <td>8.0</td>\n",
       "    </tr>\n",
       "    <tr>\n",
       "      <th>2</th>\n",
       "      <td>5.0</td>\n",
       "      <td>7.0</td>\n",
       "      <td>1.0</td>\n",
       "      <td>11.0</td>\n",
       "      <td>12.0</td>\n",
       "      <td>10.0</td>\n",
       "      <td>9.0</td>\n",
       "      <td>8.0</td>\n",
       "      <td>6.0</td>\n",
       "      <td>3.0</td>\n",
       "      <td>2.0</td>\n",
       "      <td>4.0</td>\n",
       "    </tr>\n",
       "    <tr>\n",
       "      <th>3</th>\n",
       "      <td>3.0</td>\n",
       "      <td>7.0</td>\n",
       "      <td>12.0</td>\n",
       "      <td>1.0</td>\n",
       "      <td>6.0</td>\n",
       "      <td>10.0</td>\n",
       "      <td>5.0</td>\n",
       "      <td>9.0</td>\n",
       "      <td>4.0</td>\n",
       "      <td>11.0</td>\n",
       "      <td>8.0</td>\n",
       "      <td>2.0</td>\n",
       "    </tr>\n",
       "    <tr>\n",
       "      <th>4</th>\n",
       "      <td>4.0</td>\n",
       "      <td>6.0</td>\n",
       "      <td>12.0</td>\n",
       "      <td>1.0</td>\n",
       "      <td>2.0</td>\n",
       "      <td>10.0</td>\n",
       "      <td>8.0</td>\n",
       "      <td>3.0</td>\n",
       "      <td>5.0</td>\n",
       "      <td>11.0</td>\n",
       "      <td>9.0</td>\n",
       "      <td>7.0</td>\n",
       "    </tr>\n",
       "    <tr>\n",
       "      <th>5</th>\n",
       "      <td>4.0</td>\n",
       "      <td>8.0</td>\n",
       "      <td>12.0</td>\n",
       "      <td>2.0</td>\n",
       "      <td>1.0</td>\n",
       "      <td>6.0</td>\n",
       "      <td>7.0</td>\n",
       "      <td>3.0</td>\n",
       "      <td>5.0</td>\n",
       "      <td>11.0</td>\n",
       "      <td>10.0</td>\n",
       "      <td>9.0</td>\n",
       "    </tr>\n",
       "    <tr>\n",
       "      <th>6</th>\n",
       "      <td>9.0</td>\n",
       "      <td>4.5</td>\n",
       "      <td>4.5</td>\n",
       "      <td>11.0</td>\n",
       "      <td>12.0</td>\n",
       "      <td>4.5</td>\n",
       "      <td>4.5</td>\n",
       "      <td>10.0</td>\n",
       "      <td>4.5</td>\n",
       "      <td>4.5</td>\n",
       "      <td>4.5</td>\n",
       "      <td>4.5</td>\n",
       "    </tr>\n",
       "  </tbody>\n",
       "</table>\n",
       "</div>"
      ],
      "text/plain": [
       "   April  August  December  February  January  July  June  March  May  \\\n",
       "0    2.0     8.0      12.0       4.0      6.0   7.0   5.0    1.0  3.0   \n",
       "1    9.0     5.0      12.0       2.0      1.0   4.0   6.0    3.0  7.0   \n",
       "2    5.0     7.0       1.0      11.0     12.0  10.0   9.0    8.0  6.0   \n",
       "3    3.0     7.0      12.0       1.0      6.0  10.0   5.0    9.0  4.0   \n",
       "4    4.0     6.0      12.0       1.0      2.0  10.0   8.0    3.0  5.0   \n",
       "5    4.0     8.0      12.0       2.0      1.0   6.0   7.0    3.0  5.0   \n",
       "6    9.0     4.5       4.5      11.0     12.0   4.5   4.5   10.0  4.5   \n",
       "\n",
       "   November  October  September  \n",
       "0       9.0     11.0       10.0  \n",
       "1      11.0     10.0        8.0  \n",
       "2       3.0      2.0        4.0  \n",
       "3      11.0      8.0        2.0  \n",
       "4      11.0      9.0        7.0  \n",
       "5      11.0     10.0        9.0  \n",
       "6       4.5      4.5        4.5  "
      ]
     },
     "execution_count": 14,
     "metadata": {},
     "output_type": "execute_result"
    }
   ],
   "source": [
    "month_avgs.drop('Year', axis=1).rank(axis=1)"
   ]
  },
  {
   "cell_type": "markdown",
   "metadata": {},
   "source": [
    "Months that are later on in the year, such as October/November/December, seem to have higher rank. Although this is likely just due to the increasing trend of cryptocurrency."
   ]
  },
  {
   "cell_type": "code",
   "execution_count": 15,
   "metadata": {},
   "outputs": [
    {
     "data": {
      "text/html": [
       "<div>\n",
       "<style>\n",
       "    .dataframe thead tr:only-child th {\n",
       "        text-align: right;\n",
       "    }\n",
       "\n",
       "    .dataframe thead th {\n",
       "        text-align: left;\n",
       "    }\n",
       "\n",
       "    .dataframe tbody tr th {\n",
       "        vertical-align: top;\n",
       "    }\n",
       "</style>\n",
       "<table border=\"1\" class=\"dataframe\">\n",
       "  <thead>\n",
       "    <tr style=\"text-align: right;\">\n",
       "      <th></th>\n",
       "      <th>April</th>\n",
       "      <th>August</th>\n",
       "      <th>December</th>\n",
       "      <th>February</th>\n",
       "      <th>January</th>\n",
       "      <th>July</th>\n",
       "      <th>June</th>\n",
       "      <th>March</th>\n",
       "      <th>May</th>\n",
       "      <th>November</th>\n",
       "      <th>October</th>\n",
       "      <th>September</th>\n",
       "      <th>Year</th>\n",
       "    </tr>\n",
       "  </thead>\n",
       "  <tbody>\n",
       "    <tr>\n",
       "      <th>0</th>\n",
       "      <td>4.965896</td>\n",
       "      <td>10.873603</td>\n",
       "      <td>13.135257</td>\n",
       "      <td>5.253617</td>\n",
       "      <td>6.210285</td>\n",
       "      <td>7.775188</td>\n",
       "      <td>5.961872</td>\n",
       "      <td>4.948944</td>\n",
       "      <td>5.042166</td>\n",
       "      <td>11.302019</td>\n",
       "      <td>11.580728</td>\n",
       "      <td>11.400267</td>\n",
       "      <td>2012</td>\n",
       "    </tr>\n",
       "    <tr>\n",
       "      <th>1</th>\n",
       "      <td>125.647351</td>\n",
       "      <td>103.386922</td>\n",
       "      <td>791.966258</td>\n",
       "      <td>25.741707</td>\n",
       "      <td>15.311842</td>\n",
       "      <td>85.356419</td>\n",
       "      <td>105.074970</td>\n",
       "      <td>56.956316</td>\n",
       "      <td>117.089728</td>\n",
       "      <td>524.572121</td>\n",
       "      <td>152.340199</td>\n",
       "      <td>124.629855</td>\n",
       "      <td>2013</td>\n",
       "    </tr>\n",
       "    <tr>\n",
       "      <th>2</th>\n",
       "      <td>463.320172</td>\n",
       "      <td>536.095398</td>\n",
       "      <td>343.271350</td>\n",
       "      <td>665.321186</td>\n",
       "      <td>821.757334</td>\n",
       "      <td>617.308501</td>\n",
       "      <td>614.445771</td>\n",
       "      <td>597.555200</td>\n",
       "      <td>483.792634</td>\n",
       "      <td>366.008265</td>\n",
       "      <td>364.137785</td>\n",
       "      <td>445.736664</td>\n",
       "      <td>2014</td>\n",
       "    </tr>\n",
       "    <tr>\n",
       "      <th>3</th>\n",
       "      <td>235.054794</td>\n",
       "      <td>252.569366</td>\n",
       "      <td>422.163076</td>\n",
       "      <td>233.167626</td>\n",
       "      <td>251.840768</td>\n",
       "      <td>279.640755</td>\n",
       "      <td>237.378826</td>\n",
       "      <td>268.402124</td>\n",
       "      <td>236.779634</td>\n",
       "      <td>347.978013</td>\n",
       "      <td>264.736040</td>\n",
       "      <td>233.892409</td>\n",
       "      <td>2015</td>\n",
       "    </tr>\n",
       "    <tr>\n",
       "      <th>4</th>\n",
       "      <td>433.844826</td>\n",
       "      <td>579.044451</td>\n",
       "      <td>821.156849</td>\n",
       "      <td>401.935362</td>\n",
       "      <td>411.403763</td>\n",
       "      <td>661.299670</td>\n",
       "      <td>639.400484</td>\n",
       "      <td>414.765630</td>\n",
       "      <td>460.487036</td>\n",
       "      <td>724.210465</td>\n",
       "      <td>640.967599</td>\n",
       "      <td>604.362367</td>\n",
       "      <td>2016</td>\n",
       "    </tr>\n",
       "    <tr>\n",
       "      <th>5</th>\n",
       "      <td>1212.385282</td>\n",
       "      <td>3836.256386</td>\n",
       "      <td>14904.144063</td>\n",
       "      <td>1059.535756</td>\n",
       "      <td>909.061716</td>\n",
       "      <td>2495.321295</td>\n",
       "      <td>2607.779323</td>\n",
       "      <td>1127.333906</td>\n",
       "      <td>1882.554626</td>\n",
       "      <td>7753.708621</td>\n",
       "      <td>5297.857584</td>\n",
       "      <td>4089.788818</td>\n",
       "      <td>2017</td>\n",
       "    </tr>\n",
       "    <tr>\n",
       "      <th>6</th>\n",
       "      <td>7031.768318</td>\n",
       "      <td>0.000000</td>\n",
       "      <td>0.000000</td>\n",
       "      <td>9360.001801</td>\n",
       "      <td>12854.472549</td>\n",
       "      <td>0.000000</td>\n",
       "      <td>0.000000</td>\n",
       "      <td>8992.810651</td>\n",
       "      <td>0.000000</td>\n",
       "      <td>0.000000</td>\n",
       "      <td>0.000000</td>\n",
       "      <td>0.000000</td>\n",
       "      <td>2018</td>\n",
       "    </tr>\n",
       "  </tbody>\n",
       "</table>\n",
       "</div>"
      ],
      "text/plain": [
       "         April       August      December     February       January  \\\n",
       "0     4.965896    10.873603     13.135257     5.253617      6.210285   \n",
       "1   125.647351   103.386922    791.966258    25.741707     15.311842   \n",
       "2   463.320172   536.095398    343.271350   665.321186    821.757334   \n",
       "3   235.054794   252.569366    422.163076   233.167626    251.840768   \n",
       "4   433.844826   579.044451    821.156849   401.935362    411.403763   \n",
       "5  1212.385282  3836.256386  14904.144063  1059.535756    909.061716   \n",
       "6  7031.768318     0.000000      0.000000  9360.001801  12854.472549   \n",
       "\n",
       "          July         June        March          May     November  \\\n",
       "0     7.775188     5.961872     4.948944     5.042166    11.302019   \n",
       "1    85.356419   105.074970    56.956316   117.089728   524.572121   \n",
       "2   617.308501   614.445771   597.555200   483.792634   366.008265   \n",
       "3   279.640755   237.378826   268.402124   236.779634   347.978013   \n",
       "4   661.299670   639.400484   414.765630   460.487036   724.210465   \n",
       "5  2495.321295  2607.779323  1127.333906  1882.554626  7753.708621   \n",
       "6     0.000000     0.000000  8992.810651     0.000000     0.000000   \n",
       "\n",
       "       October    September  Year  \n",
       "0    11.580728    11.400267  2012  \n",
       "1   152.340199   124.629855  2013  \n",
       "2   364.137785   445.736664  2014  \n",
       "3   264.736040   233.892409  2015  \n",
       "4   640.967599   604.362367  2016  \n",
       "5  5297.857584  4089.788818  2017  \n",
       "6     0.000000     0.000000  2018  "
      ]
     },
     "execution_count": 15,
     "metadata": {},
     "output_type": "execute_result"
    }
   ],
   "source": [
    "month_avgs"
   ]
  },
  {
   "cell_type": "code",
   "execution_count": 18,
   "metadata": {},
   "outputs": [
    {
     "data": {
      "text/plain": [
       "DatetimeIndex(['2011-09-30', '2011-10-01', '2011-10-02', '2011-10-15',\n",
       "               '2011-10-16', '2011-10-18', '2011-10-19', '2011-10-22',\n",
       "               '2011-10-23', '2011-10-27', '2011-11-02', '2011-11-03',\n",
       "               '2011-11-07', '2011-11-23', '2011-11-27', '2011-12-04',\n",
       "               '2011-12-09', '2011-12-17'],\n",
       "              dtype='datetime64[ns]', name='Date', freq=None)"
      ]
     },
     "execution_count": 18,
     "metadata": {},
     "output_type": "execute_result"
    }
   ],
   "source": [
    "btc_ts[btc_ts.price_usd.isnull()].index"
   ]
  },
  {
   "cell_type": "code",
   "execution_count": 19,
   "metadata": {},
   "outputs": [
    {
     "data": {
      "text/plain": [
       "array([ 1.        ,  0.99679247,  0.99307827,  0.98953657,  0.98605033,\n",
       "        0.98255523,  0.97895901,  0.97527755,  0.97185687,  0.96809137,\n",
       "        0.96395094,  0.95923697,  0.95475814,  0.95053666,  0.94651878,\n",
       "        0.9428067 ,  0.9390996 ,  0.93548895,  0.93189407,  0.9279289 ,\n",
       "        0.9234024 ,  0.91809045,  0.912693  ,  0.90729108,  0.90172922,\n",
       "        0.89654926,  0.89133913,  0.88617515,  0.88123057,  0.87616004,\n",
       "        0.87136987,  0.86650126,  0.86171683,  0.85699435,  0.85202901,\n",
       "        0.84721981,  0.84274153,  0.83823562,  0.83367568,  0.82864369,\n",
       "        0.82312447])"
      ]
     },
     "execution_count": 19,
     "metadata": {},
     "output_type": "execute_result"
    }
   ],
   "source": [
    "btc_cut = btc_ts['2011-12-18':]\n",
    "acf(btc_cut)"
   ]
  },
  {
   "cell_type": "code",
   "execution_count": 20,
   "metadata": {},
   "outputs": [
    {
     "data": {
      "text/plain": [
       "array([ 1.        ,  0.99722436, -0.09330179,  0.03774939,  0.00147494,\n",
       "       -0.00363265, -0.01964294, -0.01428683,  0.04697442, -0.07562667,\n",
       "       -0.05479902, -0.10056511,  0.05550801,  0.02656214,  0.03168895,\n",
       "        0.05822281, -0.010901  ,  0.02216898, -0.00962994, -0.05065683,\n",
       "       -0.09284669, -0.13924025, -0.01778043, -0.03241142, -0.03720235,\n",
       "        0.07353075, -0.00972054,  0.02517318,  0.05233205,  0.01433784,\n",
       "        0.08693747, -0.01902226,  0.01035001, -0.03133096, -0.08079014,\n",
       "       -0.00632502,  0.03668701, -0.01800585, -0.01335134, -0.05504004,\n",
       "       -0.06933721])"
      ]
     },
     "execution_count": 20,
     "metadata": {},
     "output_type": "execute_result"
    }
   ],
   "source": [
    "pacf(btc_cut)"
   ]
  },
  {
   "cell_type": "markdown",
   "metadata": {
    "collapsed": true
   },
   "source": [
    "Here, I will be trying to perform a time series analysis on the cryptocurrency prices."
   ]
  },
  {
   "cell_type": "code",
   "execution_count": 14,
   "metadata": {},
   "outputs": [
    {
     "data": {
      "text/html": [
       "<iframe id=\"igraph\" scrolling=\"no\" style=\"border:none;\" seamless=\"seamless\" src=\"https://plot.ly/~AndyVu-Hoang/22.embed\" height=\"525px\" width=\"100%\"></iframe>"
      ],
      "text/plain": [
       "<plotly.tools.PlotlyDisplay object>"
      ]
     },
     "execution_count": 14,
     "metadata": {},
     "output_type": "execute_result"
    }
   ],
   "source": [
    "py.iplot([go.Scatter(x=btc_ts.index, y=btc_ts.price_usd)])"
   ]
  },
  {
   "cell_type": "code",
   "execution_count": 22,
   "metadata": {
    "collapsed": true
   },
   "outputs": [],
   "source": [
    "# since there is a clear increasing trend, i want to try looking at the differenced data\n",
    "def difference(data, lag=1):\n",
    "    diff = list()\n",
    "    for i in range(lag, len(data)):\n",
    "        x = data[i] - data[i-lag]\n",
    "        diff.append(x)\n",
    "    return(pd.Series(diff))"
   ]
  },
  {
   "cell_type": "code",
   "execution_count": 33,
   "metadata": {},
   "outputs": [
    {
     "data": {
      "text/plain": [
       "array([[17],\n",
       "       [18],\n",
       "       [19],\n",
       "       [32],\n",
       "       [33],\n",
       "       [35],\n",
       "       [36],\n",
       "       [39],\n",
       "       [40],\n",
       "       [44],\n",
       "       [50],\n",
       "       [51],\n",
       "       [55],\n",
       "       [71],\n",
       "       [75],\n",
       "       [82],\n",
       "       [87],\n",
       "       [95]], dtype=int64)"
      ]
     },
     "execution_count": 33,
     "metadata": {},
     "output_type": "execute_result"
    }
   ],
   "source": [
    "# checking latest index where there is NaN value \n",
    "np.argwhere(np.isnan(btc_ts.price_usd))"
   ]
  },
  {
   "cell_type": "code",
   "execution_count": 36,
   "metadata": {
    "collapsed": true
   },
   "outputs": [],
   "source": [
    "# for the time series analysis, I will exclude the last 100 data points in order to use for verification\n",
    "# also excluding data points before latest NaN value\n",
    "btc_d1 = difference(btc_ts.price_usd[96:(len(btc_ts.price_usd)-100)])"
   ]
  },
  {
   "cell_type": "code",
   "execution_count": 39,
   "metadata": {},
   "outputs": [
    {
     "data": {
      "text/plain": [
       "7851376.959159912"
      ]
     },
     "execution_count": 39,
     "metadata": {},
     "output_type": "execute_result"
    }
   ],
   "source": [
    "# checking variances to see how much I should difference, ideal differencing should always reduce variance\n",
    "np.var(btc_ts.price_usd)"
   ]
  },
  {
   "cell_type": "code",
   "execution_count": 41,
   "metadata": {},
   "outputs": [
    {
     "data": {
      "text/plain": [
       "182658.64057719806"
      ]
     },
     "execution_count": 41,
     "metadata": {},
     "output_type": "execute_result"
    }
   ],
   "source": [
    "# variance of differencing weekly\n",
    "np.var(difference(btc_ts.price_usd[96:(len(btc_ts.price_usd)-100)], lag=7))"
   ]
  },
  {
   "cell_type": "code",
   "execution_count": 43,
   "metadata": {},
   "outputs": [
    {
     "data": {
      "text/plain": [
       "974530.2193823421"
      ]
     },
     "execution_count": 43,
     "metadata": {},
     "output_type": "execute_result"
    }
   ],
   "source": [
    "# variance of differencing monthly\n",
    "np.var(difference(btc_ts.price_usd[96:(len(btc_ts.price_usd)-100)], lag=30))"
   ]
  },
  {
   "cell_type": "code",
   "execution_count": 44,
   "metadata": {},
   "outputs": [
    {
     "data": {
      "text/plain": [
       "4931242.369738594"
      ]
     },
     "execution_count": 44,
     "metadata": {},
     "output_type": "execute_result"
    }
   ],
   "source": [
    "# differencing yearly\n",
    "np.var(difference(btc_ts.price_usd[96:(len(btc_ts.price_usd)-100)], lag=365))"
   ]
  },
  {
   "cell_type": "code",
   "execution_count": 46,
   "metadata": {},
   "outputs": [
    {
     "data": {
      "text/plain": [
       "19229.63311301812"
      ]
     },
     "execution_count": 46,
     "metadata": {},
     "output_type": "execute_result"
    }
   ],
   "source": [
    "# daily differencing\n",
    "np.var(btc_d1)"
   ]
  },
  {
   "cell_type": "code",
   "execution_count": 51,
   "metadata": {},
   "outputs": [
    {
     "data": {
      "text/plain": [
       "32299.126232821738"
      ]
     },
     "execution_count": 51,
     "metadata": {},
     "output_type": "execute_result"
    }
   ],
   "source": [
    "# differencing again\n",
    "np.var(difference(btc_d1, lag=1))"
   ]
  },
  {
   "cell_type": "code",
   "execution_count": 27,
   "metadata": {},
   "outputs": [
    {
     "data": {
      "text/html": [
       "<div>\n",
       "<style scoped>\n",
       "    .dataframe tbody tr th:only-of-type {\n",
       "        vertical-align: middle;\n",
       "    }\n",
       "\n",
       "    .dataframe tbody tr th {\n",
       "        vertical-align: top;\n",
       "    }\n",
       "\n",
       "    .dataframe thead th {\n",
       "        text-align: right;\n",
       "    }\n",
       "</style>\n",
       "<table border=\"1\" class=\"dataframe\">\n",
       "  <thead>\n",
       "    <tr style=\"text-align: right;\">\n",
       "      <th></th>\n",
       "      <th>Date</th>\n",
       "      <th>BITSTAMP</th>\n",
       "      <th>COINBASE</th>\n",
       "      <th>ITBIT</th>\n",
       "      <th>KRAKEN</th>\n",
       "      <th>avg_btc_price_usd</th>\n",
       "      <th>price_usd</th>\n",
       "    </tr>\n",
       "  </thead>\n",
       "  <tbody>\n",
       "    <tr>\n",
       "      <th>0</th>\n",
       "      <td>9/13/2011</td>\n",
       "      <td>5.929231</td>\n",
       "      <td>NaN</td>\n",
       "      <td>NaN</td>\n",
       "      <td>NaN</td>\n",
       "      <td>5.929231</td>\n",
       "      <td>5.929231</td>\n",
       "    </tr>\n",
       "    <tr>\n",
       "      <th>1</th>\n",
       "      <td>9/14/2011</td>\n",
       "      <td>5.590798</td>\n",
       "      <td>NaN</td>\n",
       "      <td>NaN</td>\n",
       "      <td>NaN</td>\n",
       "      <td>5.590798</td>\n",
       "      <td>5.590798</td>\n",
       "    </tr>\n",
       "    <tr>\n",
       "      <th>2</th>\n",
       "      <td>9/15/2011</td>\n",
       "      <td>5.094272</td>\n",
       "      <td>NaN</td>\n",
       "      <td>NaN</td>\n",
       "      <td>NaN</td>\n",
       "      <td>5.094272</td>\n",
       "      <td>5.094272</td>\n",
       "    </tr>\n",
       "    <tr>\n",
       "      <th>3</th>\n",
       "      <td>9/16/2011</td>\n",
       "      <td>4.854515</td>\n",
       "      <td>NaN</td>\n",
       "      <td>NaN</td>\n",
       "      <td>NaN</td>\n",
       "      <td>4.854515</td>\n",
       "      <td>4.854515</td>\n",
       "    </tr>\n",
       "    <tr>\n",
       "      <th>4</th>\n",
       "      <td>9/17/2011</td>\n",
       "      <td>4.870000</td>\n",
       "      <td>NaN</td>\n",
       "      <td>NaN</td>\n",
       "      <td>NaN</td>\n",
       "      <td>4.870000</td>\n",
       "      <td>4.870000</td>\n",
       "    </tr>\n",
       "  </tbody>\n",
       "</table>\n",
       "</div>"
      ],
      "text/plain": [
       "        Date  BITSTAMP  COINBASE  ITBIT  KRAKEN  avg_btc_price_usd  price_usd\n",
       "0  9/13/2011  5.929231       NaN    NaN     NaN           5.929231   5.929231\n",
       "1  9/14/2011  5.590798       NaN    NaN     NaN           5.590798   5.590798\n",
       "2  9/15/2011  5.094272       NaN    NaN     NaN           5.094272   5.094272\n",
       "3  9/16/2011  4.854515       NaN    NaN     NaN           4.854515   4.854515\n",
       "4  9/17/2011  4.870000       NaN    NaN     NaN           4.870000   4.870000"
      ]
     },
     "execution_count": 27,
     "metadata": {},
     "output_type": "execute_result"
    }
   ],
   "source": [
    "# time series sucks for crypto, gonna try to use monte carlo simulations\n",
    "btc.head()"
   ]
  },
  {
   "cell_type": "code",
   "execution_count": 28,
   "metadata": {},
   "outputs": [],
   "source": [
    "df = btc[['Date', 'price_usd']]"
   ]
  },
  {
   "cell_type": "code",
   "execution_count": 30,
   "metadata": {},
   "outputs": [
    {
     "data": {
      "text/plain": [
       "Int64Index([17, 18, 19, 32, 33, 35, 36, 39, 40, 44, 50, 51, 55, 71, 75, 82, 87,\n",
       "            95],\n",
       "           dtype='int64')"
      ]
     },
     "execution_count": 30,
     "metadata": {},
     "output_type": "execute_result"
    }
   ],
   "source": [
    "df[df.price_usd.isnull()].index"
   ]
  },
  {
   "cell_type": "code",
   "execution_count": 39,
   "metadata": {},
   "outputs": [],
   "source": [
    "# selecting only rows where there are no NaN values\n",
    "df1 = df[96:]\n",
    "# setting date as index and date column\n",
    "df1.index = df1['Date']\n",
    "df1 = df1.drop('Date', 1)"
   ]
  },
  {
   "cell_type": "code",
   "execution_count": 42,
   "metadata": {},
   "outputs": [],
   "source": [
    "df1['daily_return'] = np.zeros(len(df1))"
   ]
  },
  {
   "cell_type": "code",
   "execution_count": 62,
   "metadata": {},
   "outputs": [
    {
     "data": {
      "text/html": [
       "<div>\n",
       "<style scoped>\n",
       "    .dataframe tbody tr th:only-of-type {\n",
       "        vertical-align: middle;\n",
       "    }\n",
       "\n",
       "    .dataframe tbody tr th {\n",
       "        vertical-align: top;\n",
       "    }\n",
       "\n",
       "    .dataframe thead th {\n",
       "        text-align: right;\n",
       "    }\n",
       "</style>\n",
       "<table border=\"1\" class=\"dataframe\">\n",
       "  <thead>\n",
       "    <tr style=\"text-align: right;\">\n",
       "      <th></th>\n",
       "      <th>price_usd</th>\n",
       "      <th>daily_return</th>\n",
       "    </tr>\n",
       "    <tr>\n",
       "      <th>Date</th>\n",
       "      <th></th>\n",
       "      <th></th>\n",
       "    </tr>\n",
       "  </thead>\n",
       "  <tbody>\n",
       "    <tr>\n",
       "      <th>12/18/2011</th>\n",
       "      <td>3.397929</td>\n",
       "      <td>0.000000</td>\n",
       "    </tr>\n",
       "    <tr>\n",
       "      <th>12/19/2011</th>\n",
       "      <td>3.809668</td>\n",
       "      <td>0.121174</td>\n",
       "    </tr>\n",
       "    <tr>\n",
       "      <th>12/20/2011</th>\n",
       "      <td>4.570030</td>\n",
       "      <td>0.199588</td>\n",
       "    </tr>\n",
       "    <tr>\n",
       "      <th>12/21/2011</th>\n",
       "      <td>4.380000</td>\n",
       "      <td>-0.041582</td>\n",
       "    </tr>\n",
       "    <tr>\n",
       "      <th>12/22/2011</th>\n",
       "      <td>4.183819</td>\n",
       "      <td>-0.044790</td>\n",
       "    </tr>\n",
       "    <tr>\n",
       "      <th>12/23/2011</th>\n",
       "      <td>4.186257</td>\n",
       "      <td>0.000583</td>\n",
       "    </tr>\n",
       "    <tr>\n",
       "      <th>12/24/2011</th>\n",
       "      <td>4.330000</td>\n",
       "      <td>0.034337</td>\n",
       "    </tr>\n",
       "    <tr>\n",
       "      <th>12/25/2011</th>\n",
       "      <td>4.303976</td>\n",
       "      <td>-0.006010</td>\n",
       "    </tr>\n",
       "    <tr>\n",
       "      <th>12/26/2011</th>\n",
       "      <td>4.296001</td>\n",
       "      <td>-0.001853</td>\n",
       "    </tr>\n",
       "    <tr>\n",
       "      <th>12/27/2011</th>\n",
       "      <td>4.310665</td>\n",
       "      <td>0.003413</td>\n",
       "    </tr>\n",
       "    <tr>\n",
       "      <th>12/28/2011</th>\n",
       "      <td>4.267896</td>\n",
       "      <td>-0.009922</td>\n",
       "    </tr>\n",
       "    <tr>\n",
       "      <th>12/29/2011</th>\n",
       "      <td>4.348321</td>\n",
       "      <td>0.018844</td>\n",
       "    </tr>\n",
       "    <tr>\n",
       "      <th>12/30/2011</th>\n",
       "      <td>4.232348</td>\n",
       "      <td>-0.026671</td>\n",
       "    </tr>\n",
       "    <tr>\n",
       "      <th>12/31/2011</th>\n",
       "      <td>4.462126</td>\n",
       "      <td>0.054291</td>\n",
       "    </tr>\n",
       "    <tr>\n",
       "      <th>1/1/2012</th>\n",
       "      <td>4.896730</td>\n",
       "      <td>0.097399</td>\n",
       "    </tr>\n",
       "    <tr>\n",
       "      <th>1/2/2012</th>\n",
       "      <td>5.000000</td>\n",
       "      <td>0.021090</td>\n",
       "    </tr>\n",
       "    <tr>\n",
       "      <th>1/3/2012</th>\n",
       "      <td>5.279641</td>\n",
       "      <td>0.055928</td>\n",
       "    </tr>\n",
       "    <tr>\n",
       "      <th>1/4/2012</th>\n",
       "      <td>5.297575</td>\n",
       "      <td>0.003397</td>\n",
       "    </tr>\n",
       "    <tr>\n",
       "      <th>1/5/2012</th>\n",
       "      <td>6.199614</td>\n",
       "      <td>0.170274</td>\n",
       "    </tr>\n",
       "    <tr>\n",
       "      <th>1/6/2012</th>\n",
       "      <td>6.575772</td>\n",
       "      <td>0.060674</td>\n",
       "    </tr>\n",
       "    <tr>\n",
       "      <th>1/7/2012</th>\n",
       "      <td>6.800000</td>\n",
       "      <td>0.034099</td>\n",
       "    </tr>\n",
       "    <tr>\n",
       "      <th>1/8/2012</th>\n",
       "      <td>6.920000</td>\n",
       "      <td>0.017647</td>\n",
       "    </tr>\n",
       "    <tr>\n",
       "      <th>1/9/2012</th>\n",
       "      <td>6.625530</td>\n",
       "      <td>-0.042553</td>\n",
       "    </tr>\n",
       "    <tr>\n",
       "      <th>1/10/2012</th>\n",
       "      <td>6.633556</td>\n",
       "      <td>0.001211</td>\n",
       "    </tr>\n",
       "    <tr>\n",
       "      <th>1/11/2012</th>\n",
       "      <td>7.052194</td>\n",
       "      <td>0.063109</td>\n",
       "    </tr>\n",
       "    <tr>\n",
       "      <th>1/12/2012</th>\n",
       "      <td>7.266704</td>\n",
       "      <td>0.030418</td>\n",
       "    </tr>\n",
       "    <tr>\n",
       "      <th>1/13/2012</th>\n",
       "      <td>7.043830</td>\n",
       "      <td>-0.030671</td>\n",
       "    </tr>\n",
       "    <tr>\n",
       "      <th>1/14/2012</th>\n",
       "      <td>6.443740</td>\n",
       "      <td>-0.085194</td>\n",
       "    </tr>\n",
       "    <tr>\n",
       "      <th>1/15/2012</th>\n",
       "      <td>7.150000</td>\n",
       "      <td>0.109604</td>\n",
       "    </tr>\n",
       "    <tr>\n",
       "      <th>1/16/2012</th>\n",
       "      <td>6.858089</td>\n",
       "      <td>-0.040827</td>\n",
       "    </tr>\n",
       "    <tr>\n",
       "      <th>...</th>\n",
       "      <td>...</td>\n",
       "      <td>...</td>\n",
       "    </tr>\n",
       "    <tr>\n",
       "      <th>3/15/2018</th>\n",
       "      <td>8067.795078</td>\n",
       "      <td>-0.058018</td>\n",
       "    </tr>\n",
       "    <tr>\n",
       "      <th>3/16/2018</th>\n",
       "      <td>8301.331495</td>\n",
       "      <td>0.028947</td>\n",
       "    </tr>\n",
       "    <tr>\n",
       "      <th>3/17/2018</th>\n",
       "      <td>8039.581190</td>\n",
       "      <td>-0.031531</td>\n",
       "    </tr>\n",
       "    <tr>\n",
       "      <th>3/18/2018</th>\n",
       "      <td>7670.518666</td>\n",
       "      <td>-0.045906</td>\n",
       "    </tr>\n",
       "    <tr>\n",
       "      <th>3/19/2018</th>\n",
       "      <td>8383.159592</td>\n",
       "      <td>0.092906</td>\n",
       "    </tr>\n",
       "    <tr>\n",
       "      <th>3/20/2018</th>\n",
       "      <td>8687.915179</td>\n",
       "      <td>0.036353</td>\n",
       "    </tr>\n",
       "    <tr>\n",
       "      <th>3/21/2018</th>\n",
       "      <td>8965.557594</td>\n",
       "      <td>0.031957</td>\n",
       "    </tr>\n",
       "    <tr>\n",
       "      <th>3/22/2018</th>\n",
       "      <td>8751.157018</td>\n",
       "      <td>-0.023914</td>\n",
       "    </tr>\n",
       "    <tr>\n",
       "      <th>3/23/2018</th>\n",
       "      <td>8534.928842</td>\n",
       "      <td>-0.024709</td>\n",
       "    </tr>\n",
       "    <tr>\n",
       "      <th>3/24/2018</th>\n",
       "      <td>8819.217773</td>\n",
       "      <td>0.033309</td>\n",
       "    </tr>\n",
       "    <tr>\n",
       "      <th>3/25/2018</th>\n",
       "      <td>8520.438100</td>\n",
       "      <td>-0.033878</td>\n",
       "    </tr>\n",
       "    <tr>\n",
       "      <th>3/26/2018</th>\n",
       "      <td>8160.370440</td>\n",
       "      <td>-0.042259</td>\n",
       "    </tr>\n",
       "    <tr>\n",
       "      <th>3/27/2018</th>\n",
       "      <td>7951.409267</td>\n",
       "      <td>-0.025607</td>\n",
       "    </tr>\n",
       "    <tr>\n",
       "      <th>3/28/2018</th>\n",
       "      <td>7918.357757</td>\n",
       "      <td>-0.004157</td>\n",
       "    </tr>\n",
       "    <tr>\n",
       "      <th>3/29/2018</th>\n",
       "      <td>7393.662244</td>\n",
       "      <td>-0.066263</td>\n",
       "    </tr>\n",
       "    <tr>\n",
       "      <th>3/30/2018</th>\n",
       "      <td>6853.650658</td>\n",
       "      <td>-0.073037</td>\n",
       "    </tr>\n",
       "    <tr>\n",
       "      <th>3/31/2018</th>\n",
       "      <td>7015.388928</td>\n",
       "      <td>0.023599</td>\n",
       "    </tr>\n",
       "    <tr>\n",
       "      <th>4/1/2018</th>\n",
       "      <td>6723.150013</td>\n",
       "      <td>-0.041657</td>\n",
       "    </tr>\n",
       "    <tr>\n",
       "      <th>4/2/2018</th>\n",
       "      <td>6985.190921</td>\n",
       "      <td>0.038976</td>\n",
       "    </tr>\n",
       "    <tr>\n",
       "      <th>4/3/2018</th>\n",
       "      <td>7335.245572</td>\n",
       "      <td>0.050114</td>\n",
       "    </tr>\n",
       "    <tr>\n",
       "      <th>4/4/2018</th>\n",
       "      <td>7023.575847</td>\n",
       "      <td>-0.042489</td>\n",
       "    </tr>\n",
       "    <tr>\n",
       "      <th>4/5/2018</th>\n",
       "      <td>6742.288573</td>\n",
       "      <td>-0.040049</td>\n",
       "    </tr>\n",
       "    <tr>\n",
       "      <th>4/6/2018</th>\n",
       "      <td>6642.255407</td>\n",
       "      <td>-0.014837</td>\n",
       "    </tr>\n",
       "    <tr>\n",
       "      <th>4/7/2018</th>\n",
       "      <td>6894.554754</td>\n",
       "      <td>0.037984</td>\n",
       "    </tr>\n",
       "    <tr>\n",
       "      <th>4/8/2018</th>\n",
       "      <td>6994.546667</td>\n",
       "      <td>0.014503</td>\n",
       "    </tr>\n",
       "    <tr>\n",
       "      <th>4/9/2018</th>\n",
       "      <td>6855.210559</td>\n",
       "      <td>-0.019921</td>\n",
       "    </tr>\n",
       "    <tr>\n",
       "      <th>4/10/2018</th>\n",
       "      <td>6784.587770</td>\n",
       "      <td>-0.010302</td>\n",
       "    </tr>\n",
       "    <tr>\n",
       "      <th>4/11/2018</th>\n",
       "      <td>6890.650895</td>\n",
       "      <td>0.015633</td>\n",
       "    </tr>\n",
       "    <tr>\n",
       "      <th>4/12/2018</th>\n",
       "      <td>7528.281271</td>\n",
       "      <td>0.092536</td>\n",
       "    </tr>\n",
       "    <tr>\n",
       "      <th>4/13/2018</th>\n",
       "      <td>8013.449884</td>\n",
       "      <td>0.064446</td>\n",
       "    </tr>\n",
       "  </tbody>\n",
       "</table>\n",
       "<p>2309 rows × 2 columns</p>\n",
       "</div>"
      ],
      "text/plain": [
       "              price_usd  daily_return\n",
       "Date                                 \n",
       "12/18/2011     3.397929      0.000000\n",
       "12/19/2011     3.809668      0.121174\n",
       "12/20/2011     4.570030      0.199588\n",
       "12/21/2011     4.380000     -0.041582\n",
       "12/22/2011     4.183819     -0.044790\n",
       "12/23/2011     4.186257      0.000583\n",
       "12/24/2011     4.330000      0.034337\n",
       "12/25/2011     4.303976     -0.006010\n",
       "12/26/2011     4.296001     -0.001853\n",
       "12/27/2011     4.310665      0.003413\n",
       "12/28/2011     4.267896     -0.009922\n",
       "12/29/2011     4.348321      0.018844\n",
       "12/30/2011     4.232348     -0.026671\n",
       "12/31/2011     4.462126      0.054291\n",
       "1/1/2012       4.896730      0.097399\n",
       "1/2/2012       5.000000      0.021090\n",
       "1/3/2012       5.279641      0.055928\n",
       "1/4/2012       5.297575      0.003397\n",
       "1/5/2012       6.199614      0.170274\n",
       "1/6/2012       6.575772      0.060674\n",
       "1/7/2012       6.800000      0.034099\n",
       "1/8/2012       6.920000      0.017647\n",
       "1/9/2012       6.625530     -0.042553\n",
       "1/10/2012      6.633556      0.001211\n",
       "1/11/2012      7.052194      0.063109\n",
       "1/12/2012      7.266704      0.030418\n",
       "1/13/2012      7.043830     -0.030671\n",
       "1/14/2012      6.443740     -0.085194\n",
       "1/15/2012      7.150000      0.109604\n",
       "1/16/2012      6.858089     -0.040827\n",
       "...                 ...           ...\n",
       "3/15/2018   8067.795078     -0.058018\n",
       "3/16/2018   8301.331495      0.028947\n",
       "3/17/2018   8039.581190     -0.031531\n",
       "3/18/2018   7670.518666     -0.045906\n",
       "3/19/2018   8383.159592      0.092906\n",
       "3/20/2018   8687.915179      0.036353\n",
       "3/21/2018   8965.557594      0.031957\n",
       "3/22/2018   8751.157018     -0.023914\n",
       "3/23/2018   8534.928842     -0.024709\n",
       "3/24/2018   8819.217773      0.033309\n",
       "3/25/2018   8520.438100     -0.033878\n",
       "3/26/2018   8160.370440     -0.042259\n",
       "3/27/2018   7951.409267     -0.025607\n",
       "3/28/2018   7918.357757     -0.004157\n",
       "3/29/2018   7393.662244     -0.066263\n",
       "3/30/2018   6853.650658     -0.073037\n",
       "3/31/2018   7015.388928      0.023599\n",
       "4/1/2018    6723.150013     -0.041657\n",
       "4/2/2018    6985.190921      0.038976\n",
       "4/3/2018    7335.245572      0.050114\n",
       "4/4/2018    7023.575847     -0.042489\n",
       "4/5/2018    6742.288573     -0.040049\n",
       "4/6/2018    6642.255407     -0.014837\n",
       "4/7/2018    6894.554754      0.037984\n",
       "4/8/2018    6994.546667      0.014503\n",
       "4/9/2018    6855.210559     -0.019921\n",
       "4/10/2018   6784.587770     -0.010302\n",
       "4/11/2018   6890.650895      0.015633\n",
       "4/12/2018   7528.281271      0.092536\n",
       "4/13/2018   8013.449884      0.064446\n",
       "\n",
       "[2309 rows x 2 columns]"
      ]
     },
     "execution_count": 62,
     "metadata": {},
     "output_type": "execute_result"
    }
   ],
   "source": [
    "df1"
   ]
  },
  {
   "cell_type": "code",
   "execution_count": 45,
   "metadata": {},
   "outputs": [],
   "source": [
    "for i in range(len(df1)-1):\n",
    "    df1.daily_return[i+1] = (df1.price_usd[i+1]-df1.price_usd[i])/df1.price_usd[i] "
   ]
  },
  {
   "cell_type": "code",
   "execution_count": 79,
   "metadata": {},
   "outputs": [],
   "source": [
    "v = np.var(df1.daily_return)"
   ]
  },
  {
   "cell_type": "code",
   "execution_count": 55,
   "metadata": {},
   "outputs": [],
   "source": [
    "m = np.mean(df1.daily_return)"
   ]
  },
  {
   "cell_type": "code",
   "execution_count": 58,
   "metadata": {},
   "outputs": [
    {
     "data": {
      "text/plain": [
       "[-0.07917947702984521, 0.0877478970768944]"
      ]
     },
     "execution_count": 58,
     "metadata": {},
     "output_type": "execute_result"
    }
   ],
   "source": [
    "# confirming that 0 is in the 95% confidence interval for the true mean of daily returns\n",
    "from math import sqrt\n",
    "[m - 1.96*sqrt(v), m + 1.96*sqrt(v)]"
   ]
  },
  {
   "cell_type": "code",
   "execution_count": 76,
   "metadata": {},
   "outputs": [
    {
     "data": {
      "text/plain": [
       "price_usd       8013.449884\n",
       "daily_return       0.064446\n",
       "Name: 4/13/2018, dtype: float64"
      ]
     },
     "execution_count": 76,
     "metadata": {},
     "output_type": "execute_result"
    }
   ],
   "source": [
    "df1.iloc[-1]"
   ]
  },
  {
   "cell_type": "code",
   "execution_count": 78,
   "metadata": {},
   "outputs": [
    {
     "data": {
      "text/plain": [
       "Date\n",
       "12/18/2011    0.000000\n",
       "12/19/2011    0.121174\n",
       "12/20/2011    0.199588\n",
       "12/21/2011   -0.041582\n",
       "12/22/2011   -0.044790\n",
       "12/23/2011    0.000583\n",
       "12/24/2011    0.034337\n",
       "12/25/2011   -0.006010\n",
       "12/26/2011   -0.001853\n",
       "12/27/2011    0.003413\n",
       "12/28/2011   -0.009922\n",
       "12/29/2011    0.018844\n",
       "12/30/2011   -0.026671\n",
       "12/31/2011    0.054291\n",
       "1/1/2012      0.097399\n",
       "1/2/2012      0.021090\n",
       "1/3/2012      0.055928\n",
       "1/4/2012      0.003397\n",
       "1/5/2012      0.170274\n",
       "1/6/2012      0.060674\n",
       "1/7/2012      0.034099\n",
       "1/8/2012      0.017647\n",
       "1/9/2012     -0.042553\n",
       "1/10/2012     0.001211\n",
       "1/11/2012     0.063109\n",
       "1/12/2012     0.030418\n",
       "1/13/2012    -0.030671\n",
       "1/14/2012    -0.085194\n",
       "1/15/2012     0.109604\n",
       "1/16/2012    -0.040827\n",
       "                ...   \n",
       "3/15/2018    -0.058018\n",
       "3/16/2018     0.028947\n",
       "3/17/2018    -0.031531\n",
       "3/18/2018    -0.045906\n",
       "3/19/2018     0.092906\n",
       "3/20/2018     0.036353\n",
       "3/21/2018     0.031957\n",
       "3/22/2018    -0.023914\n",
       "3/23/2018    -0.024709\n",
       "3/24/2018     0.033309\n",
       "3/25/2018    -0.033878\n",
       "3/26/2018    -0.042259\n",
       "3/27/2018    -0.025607\n",
       "3/28/2018    -0.004157\n",
       "3/29/2018    -0.066263\n",
       "3/30/2018    -0.073037\n",
       "3/31/2018     0.023599\n",
       "4/1/2018     -0.041657\n",
       "4/2/2018      0.038976\n",
       "4/3/2018      0.050114\n",
       "4/4/2018     -0.042489\n",
       "4/5/2018     -0.040049\n",
       "4/6/2018     -0.014837\n",
       "4/7/2018      0.037984\n",
       "4/8/2018      0.014503\n",
       "4/9/2018     -0.019921\n",
       "4/10/2018    -0.010302\n",
       "4/11/2018     0.015633\n",
       "4/12/2018     0.092536\n",
       "4/13/2018     0.064446\n",
       "Name: daily_return, Length: 2309, dtype: float64"
      ]
     },
     "execution_count": 78,
     "metadata": {},
     "output_type": "execute_result"
    }
   ],
   "source": [
    "df1['daily_return']"
   ]
  },
  {
   "cell_type": "code",
   "execution_count": 105,
   "metadata": {},
   "outputs": [
    {
     "data": {
      "image/png": "[encoded data removed]",
      "text/plain": [
       "<matplotlib.figure.Figure at 0x189a9913630>"
      ]
     },
     "metadata": {},
     "output_type": "display_data"
    }
   ],
   "source": [
    "import matplotlib.pyplot as plt\n",
    "from math import sqrt\n",
    "numSim = 5\n",
    "predDays = 30\n",
    "lastPrice = df1.iloc[-1].price_usd\n",
    "results = pd.DataFrame()\n",
    "sim = 0\n",
    "\n",
    "while (sim < numSim):\n",
    "    prices = []\n",
    "    days = 0\n",
    "    prices.append(lastPrice)\n",
    "    \n",
    "    while (days < predDays):\n",
    "        prices.append(prices[days] * (1 + np.random.normal(0, sqrt(v))))\n",
    "        days += 1\n",
    "    \n",
    "    results[str(sim)] = pd.Series(prices).values\n",
    "    sim += 1\n",
    "\n",
    "# print(results.shape)\n",
    "fig = plt.figure()\n",
    "plt.plot(results)\n",
    "plt.ylabel('Price in USD')\n",
    "plt.xlabel('Simulated Days')\n",
    "plt.show()"
   ]
  },
  {
   "cell_type": "code",
   "execution_count": null,
   "metadata": {},
   "outputs": [],
   "source": []
  },
  {
   "cell_type": "code",
   "execution_count": 113,
   "metadata": {},
   "outputs": [
    {
     "ename": "PlotlyDictKeyError",
     "evalue": "'0' is not allowed in 'scatter'\n\nPath To Error: ['0']\n\nValid attributes for 'scatter' at path [] under parents []:\n\n    ['cliponaxis', 'connectgaps', 'customdata', 'customdatasrc', 'dx',\n    'dy', 'error_x', 'error_y', 'fill', 'fillcolor', 'hoverinfo',\n    'hoverinfosrc', 'hoverlabel', 'hoveron', 'hovertext', 'hovertextsrc',\n    'ids', 'idssrc', 'legendgroup', 'line', 'marker', 'mode', 'name',\n    'opacity', 'r', 'rsrc', 'selected', 'selectedpoints', 'showlegend',\n    'stream', 't', 'text', 'textfont', 'textposition', 'textpositionsrc',\n    'textsrc', 'tsrc', 'type', 'uid', 'unselected', 'visible', 'x', 'x0',\n    'xaxis', 'xcalendar', 'xsrc', 'y', 'y0', 'yaxis', 'ycalendar', 'ysrc']\n\nRun `<scatter-object>.help('attribute')` on any of the above.\n'<scatter-object>' is the object at []",
     "output_type": "error",
     "traceback": [
      "\u001b[1;31m---------------------------------------------------------------------------\u001b[0m",
      "\u001b[1;31mPlotlyDictKeyError\u001b[0m                        Traceback (most recent call last)",
      "\u001b[1;32m<ipython-input-113-908ceb8a350d>\u001b[0m in \u001b[0;36m<module>\u001b[1;34m()\u001b[0m\n\u001b[0;32m      1\u001b[0m \u001b[1;31m# making interactive plot\u001b[0m\u001b[1;33m\u001b[0m\u001b[1;33m\u001b[0m\u001b[0m\n\u001b[0;32m      2\u001b[0m \u001b[1;32mimport\u001b[0m \u001b[0mplotly\u001b[0m\u001b[1;33m.\u001b[0m\u001b[0mplotly\u001b[0m \u001b[1;32mas\u001b[0m \u001b[0mpy\u001b[0m\u001b[1;33m\u001b[0m\u001b[0m\n\u001b[1;32m----> 3\u001b[1;33m \u001b[0mpy\u001b[0m\u001b[1;33m.\u001b[0m\u001b[0miplot\u001b[0m\u001b[1;33m(\u001b[0m\u001b[1;33m[\u001b[0m\u001b[0mgo\u001b[0m\u001b[1;33m.\u001b[0m\u001b[0mScatter\u001b[0m\u001b[1;33m(\u001b[0m\u001b[0mresults\u001b[0m\u001b[1;33m)\u001b[0m\u001b[1;33m]\u001b[0m\u001b[1;33m)\u001b[0m\u001b[1;33m\u001b[0m\u001b[0m\n\u001b[0m",
      "\u001b[1;32m~\\Anaconda3\\lib\\site-packages\\plotly\\graph_objs\\graph_objs.py\u001b[0m in \u001b[0;36m__init__\u001b[1;34m(self, *args, **kwargs)\u001b[0m\n\u001b[0;32m    375\u001b[0m         \u001b[0md\u001b[0m \u001b[1;33m=\u001b[0m \u001b[1;33m{\u001b[0m\u001b[0mkey\u001b[0m\u001b[1;33m:\u001b[0m \u001b[0mval\u001b[0m \u001b[1;32mfor\u001b[0m \u001b[0mkey\u001b[0m\u001b[1;33m,\u001b[0m \u001b[0mval\u001b[0m \u001b[1;32min\u001b[0m \u001b[0mdict\u001b[0m\u001b[1;33m(\u001b[0m\u001b[1;33m*\u001b[0m\u001b[0margs\u001b[0m\u001b[1;33m,\u001b[0m \u001b[1;33m**\u001b[0m\u001b[0mkwargs\u001b[0m\u001b[1;33m)\u001b[0m\u001b[1;33m.\u001b[0m\u001b[0mitems\u001b[0m\u001b[1;33m(\u001b[0m\u001b[1;33m)\u001b[0m\u001b[1;33m}\u001b[0m\u001b[1;33m\u001b[0m\u001b[0m\n\u001b[0;32m    376\u001b[0m         \u001b[1;32mfor\u001b[0m \u001b[0mkey\u001b[0m\u001b[1;33m,\u001b[0m \u001b[0mval\u001b[0m \u001b[1;32min\u001b[0m \u001b[0md\u001b[0m\u001b[1;33m.\u001b[0m\u001b[0mitems\u001b[0m\u001b[1;33m(\u001b[0m\u001b[1;33m)\u001b[0m\u001b[1;33m:\u001b[0m\u001b[1;33m\u001b[0m\u001b[0m\n\u001b[1;32m--> 377\u001b[1;33m             \u001b[0mself\u001b[0m\u001b[1;33m.\u001b[0m\u001b[0m__setitem__\u001b[0m\u001b[1;33m(\u001b[0m\u001b[0mkey\u001b[0m\u001b[1;33m,\u001b[0m \u001b[0mval\u001b[0m\u001b[1;33m,\u001b[0m \u001b[0m_raise\u001b[0m\u001b[1;33m=\u001b[0m\u001b[0m_raise\u001b[0m\u001b[1;33m)\u001b[0m\u001b[1;33m\u001b[0m\u001b[0m\n\u001b[0m\u001b[0;32m    378\u001b[0m \u001b[1;33m\u001b[0m\u001b[0m\n\u001b[0;32m    379\u001b[0m     \u001b[1;32mdef\u001b[0m \u001b[0m__dir__\u001b[0m\u001b[1;33m(\u001b[0m\u001b[0mself\u001b[0m\u001b[1;33m)\u001b[0m\u001b[1;33m:\u001b[0m\u001b[1;33m\u001b[0m\u001b[0m\n",
      "\u001b[1;32m~\\Anaconda3\\lib\\site-packages\\plotly\\graph_objs\\graph_objs.py\u001b[0m in \u001b[0;36m__setitem__\u001b[1;34m(self, key, value, _raise)\u001b[0m\n\u001b[0;32m    426\u001b[0m                 \u001b[1;32mif\u001b[0m \u001b[0m_raise\u001b[0m\u001b[1;33m:\u001b[0m\u001b[1;33m\u001b[0m\u001b[0m\n\u001b[0;32m    427\u001b[0m                     \u001b[0mpath\u001b[0m \u001b[1;33m=\u001b[0m \u001b[0mself\u001b[0m\u001b[1;33m.\u001b[0m\u001b[0m_get_path\u001b[0m\u001b[1;33m(\u001b[0m\u001b[1;33m)\u001b[0m \u001b[1;33m+\u001b[0m \u001b[1;33m(\u001b[0m\u001b[0mkey\u001b[0m\u001b[1;33m,\u001b[0m \u001b[1;33m)\u001b[0m\u001b[1;33m\u001b[0m\u001b[0m\n\u001b[1;32m--> 428\u001b[1;33m                     \u001b[1;32mraise\u001b[0m \u001b[0mexceptions\u001b[0m\u001b[1;33m.\u001b[0m\u001b[0mPlotlyDictKeyError\u001b[0m\u001b[1;33m(\u001b[0m\u001b[0mself\u001b[0m\u001b[1;33m,\u001b[0m \u001b[0mpath\u001b[0m\u001b[1;33m)\u001b[0m\u001b[1;33m\u001b[0m\u001b[0m\n\u001b[0m\u001b[0;32m    429\u001b[0m                 \u001b[1;32mreturn\u001b[0m\u001b[1;33m\u001b[0m\u001b[0m\n\u001b[0;32m    430\u001b[0m \u001b[1;33m\u001b[0m\u001b[0m\n",
      "\u001b[1;31mPlotlyDictKeyError\u001b[0m: '0' is not allowed in 'scatter'\n\nPath To Error: ['0']\n\nValid attributes for 'scatter' at path [] under parents []:\n\n    ['cliponaxis', 'connectgaps', 'customdata', 'customdatasrc', 'dx',\n    'dy', 'error_x', 'error_y', 'fill', 'fillcolor', 'hoverinfo',\n    'hoverinfosrc', 'hoverlabel', 'hoveron', 'hovertext', 'hovertextsrc',\n    'ids', 'idssrc', 'legendgroup', 'line', 'marker', 'mode', 'name',\n    'opacity', 'r', 'rsrc', 'selected', 'selectedpoints', 'showlegend',\n    'stream', 't', 'text', 'textfont', 'textposition', 'textpositionsrc',\n    'textsrc', 'tsrc', 'type', 'uid', 'unselected', 'visible', 'x', 'x0',\n    'xaxis', 'xcalendar', 'xsrc', 'y', 'y0', 'yaxis', 'ycalendar', 'ysrc']\n\nRun `<scatter-object>.help('attribute')` on any of the above.\n'<scatter-object>' is the object at []"
     ]
    }
   ],
   "source": [
    "# making interactive plot\n",
    "import plotly.plotly as py\n",
    "\n",
    "# making a function to make lists for plotting\n",
    "def results_to_list(results):\n",
    "    for i in range()\n",
    "\n",
    "\n",
    "# want to make a list of go.Scatter stuff\n",
    "py.iplot([go.Scatter(results)])"
   ]
  },
  {
   "cell_type": "code",
   "execution_count": 112,
   "metadata": {},
   "outputs": [],
   "source": [
    "?go.Scatter"
   ]
  }
 ],
 "metadata": {
  "kernelspec": {
   "display_name": "Python 3",
   "language": "python",
   "name": "python3"
  },
  "language_info": {
   "codemirror_mode": {
    "name": "ipython",
    "version": 3
   },
   "file_extension": ".py",
   "mimetype": "text/x-python",
   "name": "python",
   "nbconvert_exporter": "python",
   "pygments_lexer": "ipython3",
   "version": "3.6.4"
  }
 },
 "nbformat": 4,
 "nbformat_minor": 2
}
