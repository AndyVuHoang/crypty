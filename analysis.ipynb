{
 "cells": [
  {
   "cell_type": "code",
   "execution_count": 2,
   "metadata": {
    "collapsed": true
   },
   "outputs": [],
   "source": [
    "import pandas as pd\n",
    "import matplotlib as mpl\n",
    "from matplotlib import pyplot\n",
    "from datetime import datetime\n",
    "import plotly\n",
    "import plotly.plotly as py\n",
    "import plotly.graph_objs as go\n",
    "import numpy as np\n",
    "\n",
    "dow = pd.read_csv(\"data_gathering/data/DJI.csv\")\n",
    "btc = pd.read_csv(\"data_gathering/data/BTC.csv\")"
   ]
  },
  {
   "cell_type": "code",
   "execution_count": null,
   "metadata": {
    "collapsed": true
   },
   "outputs": [],
   "source": [
    "from IPython.display import HTML\n",
    "plotly.tools.set_credentials_file(username=\"AndyVu-Hoang\", api_key=\"9Ut7brZV1YJ1eDk0aNyw\")"
   ]
  },
  {
   "cell_type": "code",
   "execution_count": 3,
   "metadata": {},
   "outputs": [
    {
     "data": {
      "text/html": [
       "<div>\n",
       "<style>\n",
       "    .dataframe thead tr:only-child th {\n",
       "        text-align: right;\n",
       "    }\n",
       "\n",
       "    .dataframe thead th {\n",
       "        text-align: left;\n",
       "    }\n",
       "\n",
       "    .dataframe tbody tr th {\n",
       "        vertical-align: top;\n",
       "    }\n",
       "</style>\n",
       "<table border=\"1\" class=\"dataframe\">\n",
       "  <thead>\n",
       "    <tr style=\"text-align: right;\">\n",
       "      <th></th>\n",
       "      <th>Date</th>\n",
       "      <th>Open</th>\n",
       "      <th>High</th>\n",
       "      <th>Low</th>\n",
       "      <th>Close</th>\n",
       "      <th>Adj Close</th>\n",
       "      <th>Volume</th>\n",
       "    </tr>\n",
       "  </thead>\n",
       "  <tbody>\n",
       "    <tr>\n",
       "      <th>0</th>\n",
       "      <td>5/1/2013</td>\n",
       "      <td>14839.79981</td>\n",
       "      <td>14839.79981</td>\n",
       "      <td>14687.04981</td>\n",
       "      <td>14700.95020</td>\n",
       "      <td>14700.95020</td>\n",
       "      <td>112620000</td>\n",
       "    </tr>\n",
       "    <tr>\n",
       "      <th>1</th>\n",
       "      <td>5/2/2013</td>\n",
       "      <td>14700.95020</td>\n",
       "      <td>14834.62988</td>\n",
       "      <td>14700.95020</td>\n",
       "      <td>14831.58008</td>\n",
       "      <td>14831.58008</td>\n",
       "      <td>91180000</td>\n",
       "    </tr>\n",
       "    <tr>\n",
       "      <th>2</th>\n",
       "      <td>5/3/2013</td>\n",
       "      <td>14831.58008</td>\n",
       "      <td>15009.58984</td>\n",
       "      <td>14831.58008</td>\n",
       "      <td>14973.95996</td>\n",
       "      <td>14973.95996</td>\n",
       "      <td>119890000</td>\n",
       "    </tr>\n",
       "    <tr>\n",
       "      <th>3</th>\n",
       "      <td>5/6/2013</td>\n",
       "      <td>14973.95996</td>\n",
       "      <td>14988.87012</td>\n",
       "      <td>14941.08984</td>\n",
       "      <td>14968.88965</td>\n",
       "      <td>14968.88965</td>\n",
       "      <td>116160000</td>\n",
       "    </tr>\n",
       "    <tr>\n",
       "      <th>4</th>\n",
       "      <td>5/7/2013</td>\n",
       "      <td>14968.88965</td>\n",
       "      <td>15056.66992</td>\n",
       "      <td>14968.88965</td>\n",
       "      <td>15056.20020</td>\n",
       "      <td>15056.20020</td>\n",
       "      <td>117230000</td>\n",
       "    </tr>\n",
       "  </tbody>\n",
       "</table>\n",
       "</div>"
      ],
      "text/plain": [
       "       Date         Open         High          Low        Close    Adj Close  \\\n",
       "0  5/1/2013  14839.79981  14839.79981  14687.04981  14700.95020  14700.95020   \n",
       "1  5/2/2013  14700.95020  14834.62988  14700.95020  14831.58008  14831.58008   \n",
       "2  5/3/2013  14831.58008  15009.58984  14831.58008  14973.95996  14973.95996   \n",
       "3  5/6/2013  14973.95996  14988.87012  14941.08984  14968.88965  14968.88965   \n",
       "4  5/7/2013  14968.88965  15056.66992  14968.88965  15056.20020  15056.20020   \n",
       "\n",
       "      Volume  \n",
       "0  112620000  \n",
       "1   91180000  \n",
       "2  119890000  \n",
       "3  116160000  \n",
       "4  117230000  "
      ]
     },
     "execution_count": 3,
     "metadata": {},
     "output_type": "execute_result"
    }
   ],
   "source": [
    "dow.head()"
   ]
  },
  {
   "cell_type": "code",
   "execution_count": 4,
   "metadata": {},
   "outputs": [
    {
     "data": {
      "text/html": [
       "<div>\n",
       "<style>\n",
       "    .dataframe thead tr:only-child th {\n",
       "        text-align: right;\n",
       "    }\n",
       "\n",
       "    .dataframe thead th {\n",
       "        text-align: left;\n",
       "    }\n",
       "\n",
       "    .dataframe tbody tr th {\n",
       "        vertical-align: top;\n",
       "    }\n",
       "</style>\n",
       "<table border=\"1\" class=\"dataframe\">\n",
       "  <thead>\n",
       "    <tr style=\"text-align: right;\">\n",
       "      <th></th>\n",
       "      <th>Date</th>\n",
       "      <th>BITSTAMP</th>\n",
       "      <th>COINBASE</th>\n",
       "      <th>ITBIT</th>\n",
       "      <th>KRAKEN</th>\n",
       "      <th>avg_btc_price_usd</th>\n",
       "      <th>price_usd</th>\n",
       "    </tr>\n",
       "  </thead>\n",
       "  <tbody>\n",
       "    <tr>\n",
       "      <th>2338</th>\n",
       "      <td>2018-02-06</td>\n",
       "      <td>6869.997696</td>\n",
       "      <td>6826.268845</td>\n",
       "      <td>6807.908676</td>\n",
       "      <td>6777.569509</td>\n",
       "      <td>6820.436181</td>\n",
       "      <td>6820.436181</td>\n",
       "    </tr>\n",
       "    <tr>\n",
       "      <th>2339</th>\n",
       "      <td>2018-02-07</td>\n",
       "      <td>7986.143931</td>\n",
       "      <td>7935.824943</td>\n",
       "      <td>7925.693199</td>\n",
       "      <td>7904.260245</td>\n",
       "      <td>7937.980580</td>\n",
       "      <td>7937.980580</td>\n",
       "    </tr>\n",
       "    <tr>\n",
       "      <th>2340</th>\n",
       "      <td>2018-02-08</td>\n",
       "      <td>8228.030379</td>\n",
       "      <td>8184.579324</td>\n",
       "      <td>8184.496108</td>\n",
       "      <td>8201.635143</td>\n",
       "      <td>8199.685239</td>\n",
       "      <td>8199.685239</td>\n",
       "    </tr>\n",
       "    <tr>\n",
       "      <th>2341</th>\n",
       "      <td>2018-02-09</td>\n",
       "      <td>8254.918737</td>\n",
       "      <td>8236.681315</td>\n",
       "      <td>8260.202908</td>\n",
       "      <td>8277.986041</td>\n",
       "      <td>8257.447250</td>\n",
       "      <td>8257.447250</td>\n",
       "    </tr>\n",
       "    <tr>\n",
       "      <th>2342</th>\n",
       "      <td>2018-02-10</td>\n",
       "      <td>8664.056401</td>\n",
       "      <td>8639.981944</td>\n",
       "      <td>8709.024654</td>\n",
       "      <td>8626.471370</td>\n",
       "      <td>8659.883592</td>\n",
       "      <td>8659.883592</td>\n",
       "    </tr>\n",
       "  </tbody>\n",
       "</table>\n",
       "</div>"
      ],
      "text/plain": [
       "            Date     BITSTAMP     COINBASE        ITBIT       KRAKEN  \\\n",
       "2338  2018-02-06  6869.997696  6826.268845  6807.908676  6777.569509   \n",
       "2339  2018-02-07  7986.143931  7935.824943  7925.693199  7904.260245   \n",
       "2340  2018-02-08  8228.030379  8184.579324  8184.496108  8201.635143   \n",
       "2341  2018-02-09  8254.918737  8236.681315  8260.202908  8277.986041   \n",
       "2342  2018-02-10  8664.056401  8639.981944  8709.024654  8626.471370   \n",
       "\n",
       "      avg_btc_price_usd    price_usd  \n",
       "2338        6820.436181  6820.436181  \n",
       "2339        7937.980580  7937.980580  \n",
       "2340        8199.685239  8199.685239  \n",
       "2341        8257.447250  8257.447250  \n",
       "2342        8659.883592  8659.883592  "
      ]
     },
     "execution_count": 4,
     "metadata": {},
     "output_type": "execute_result"
    }
   ],
   "source": [
    "btc.tail()"
   ]
  },
  {
   "cell_type": "code",
   "execution_count": 5,
   "metadata": {
    "collapsed": true
   },
   "outputs": [],
   "source": [
    "# the dates are in different formats\n",
    "# converting to datetime\n",
    "dow['Date'] = pd.to_datetime(dow['Date'])\n",
    "btc['Date'] = pd.to_datetime(btc['Date'])"
   ]
  },
  {
   "cell_type": "code",
   "execution_count": 6,
   "metadata": {
    "collapsed": true
   },
   "outputs": [],
   "source": [
    "btc_ts = btc[['price_usd']]\n",
    "btc_ts.index = btc['Date']"
   ]
  },
  {
   "cell_type": "code",
   "execution_count": 7,
   "metadata": {},
   "outputs": [
    {
     "data": {
      "text/plain": [
       "DatetimeIndex(['2011-09-13', '2011-09-14', '2011-09-15', '2011-09-16',\n",
       "               '2011-09-17', '2011-09-18', '2011-09-19', '2011-09-20',\n",
       "               '2011-09-21', '2011-09-22',\n",
       "               ...\n",
       "               '2018-02-01', '2018-02-02', '2018-02-03', '2018-02-04',\n",
       "               '2018-02-05', '2018-02-06', '2018-02-07', '2018-02-08',\n",
       "               '2018-02-09', '2018-02-10'],\n",
       "              dtype='datetime64[ns]', name='Date', length=2343, freq=None)"
      ]
     },
     "execution_count": 7,
     "metadata": {},
     "output_type": "execute_result"
    }
   ],
   "source": [
    "btc_ts.index"
   ]
  },
  {
   "cell_type": "code",
   "execution_count": 8,
   "metadata": {},
   "outputs": [
    {
     "data": {
      "text/plain": [
       "Date\n",
       "2011-09-13        5.929231\n",
       "2011-09-14        5.590798\n",
       "2011-09-15        5.094272\n",
       "2011-09-16        4.854515\n",
       "2011-09-17        4.870000\n",
       "2011-09-18        4.839576\n",
       "2011-09-19        4.900000\n",
       "2011-09-20        5.388054\n",
       "2011-09-21        5.706075\n",
       "2011-09-22        5.696960\n",
       "2011-09-23        5.707099\n",
       "2011-09-24        5.722494\n",
       "2011-09-25        6.050000\n",
       "2011-09-26        5.983073\n",
       "2011-09-27        4.895402\n",
       "2011-09-28        4.862498\n",
       "2011-09-29        4.816345\n",
       "2011-09-30             NaN\n",
       "2011-10-01             NaN\n",
       "2011-10-02             NaN\n",
       "2011-10-03        4.847772\n",
       "2011-10-04        4.924737\n",
       "2011-10-05        5.029419\n",
       "2011-10-06        4.908846\n",
       "2011-10-07        4.687629\n",
       "2011-10-08        4.455536\n",
       "2011-10-09        3.890000\n",
       "2011-10-10        4.498302\n",
       "2011-10-11        3.998965\n",
       "2011-10-12        3.943964\n",
       "                  ...     \n",
       "2018-01-12    13613.176099\n",
       "2018-01-13    14284.242800\n",
       "2018-01-14    13634.977441\n",
       "2018-01-15    13861.606328\n",
       "2018-01-16    11799.334773\n",
       "2018-01-17    10525.020291\n",
       "2018-01-18    11541.346268\n",
       "2018-01-19    11515.610310\n",
       "2018-01-20    12458.123258\n",
       "2018-01-21    11858.396100\n",
       "2018-01-22    10885.144786\n",
       "2018-01-23    10714.113726\n",
       "2018-01-24    11022.790491\n",
       "2018-01-25    11282.800033\n",
       "2018-01-26    10912.645721\n",
       "2018-01-27    11262.964066\n",
       "2018-01-28    11606.782940\n",
       "2018-01-29    11223.024484\n",
       "2018-01-30    10360.194566\n",
       "2018-01-31     9940.366214\n",
       "2018-02-01     9201.000200\n",
       "2018-02-02     8462.667804\n",
       "2018-02-03     8919.517760\n",
       "2018-02-04     8475.510452\n",
       "2018-02-05     7321.300815\n",
       "2018-02-06     6820.436181\n",
       "2018-02-07     7937.980580\n",
       "2018-02-08     8199.685239\n",
       "2018-02-09     8257.447250\n",
       "2018-02-10     8659.883592\n",
       "Name: price_usd, Length: 2343, dtype: float64"
      ]
     },
     "execution_count": 8,
     "metadata": {},
     "output_type": "execute_result"
    }
   ],
   "source": [
    "btc_ts.price_usd"
   ]
  },
  {
   "cell_type": "code",
   "execution_count": 9,
   "metadata": {},
   "outputs": [
    {
     "data": {
      "text/html": [
       "<iframe id=\"igraph\" scrolling=\"no\" style=\"border:none;\" seamless=\"seamless\" src=\"https://plot.ly/~AndyVu-Hoang/12.embed\" height=\"525px\" width=\"100%\"></iframe>"
      ],
      "text/plain": [
       "<plotly.tools.PlotlyDisplay object>"
      ]
     },
     "execution_count": 9,
     "metadata": {},
     "output_type": "execute_result"
    }
   ],
   "source": [
    "py.iplot([go.Scatter(x=btc_ts.index, y=btc_ts.price_usd)])\n"
   ]
  },
  {
   "cell_type": "code",
   "execution_count": 10,
   "metadata": {},
   "outputs": [
    {
     "data": {
      "image/png": "[encoded data removed]",
      "text/plain": [
       "<matplotlib.figure.Figure at 0x2979b0b2c18>"
      ]
     },
     "metadata": {},
     "output_type": "display_data"
    }
   ],
   "source": [
    "# there is clearly an increasing trend for the price of bitcoin\n",
    "# checking for seasonality\n",
    "X = btc_ts.values\n",
    "diff = list()\n",
    "days_in_year = 365\n",
    "for i in range(days_in_year, len(X)):\n",
    "    value = X[i] - X[i-days_in_year]\n",
    "    diff.append(value)\n",
    "pyplot.plot(diff)\n",
    "pyplot.show()"
   ]
  },
  {
   "cell_type": "code",
   "execution_count": 11,
   "metadata": {
    "collapsed": true
   },
   "outputs": [],
   "source": [
    "# checking if certain months have better average prices for the year\n",
    "btc_ts.index.month\n",
    "month_avgs = []\n",
    "for i in range(2012, 2019):\n",
    "    months = list()\n",
    "    for j in range(1,13):\n",
    "        m_y = btc_ts[btc_ts.index.year==i]\n",
    "        m = m_y[m_y.index.month==j]\n",
    "        if(len(m.price_usd)!=0):\n",
    "            avg = sum(m.price_usd)/len(m.price_usd)\n",
    "            months.append(avg)\n",
    "        else:\n",
    "            months.append(0)\n",
    "    month_avgs.append({'Year': i, 'January': months[0], 'February': months[1], 'March': months[2],\n",
    "                      'April': months[3], 'May': months[4], 'June': months[5], 'July': months[6],\n",
    "                      'August': months[7], 'September': months[8], 'October': months[9], \n",
    "                      'November': months[10], 'December': months[11]})"
   ]
  },
  {
   "cell_type": "code",
   "execution_count": 12,
   "metadata": {
    "collapsed": true
   },
   "outputs": [],
   "source": [
    "month_avgs = pd.DataFrame(month_avgs)"
   ]
  },
  {
   "cell_type": "code",
   "execution_count": 13,
   "metadata": {},
   "outputs": [
    {
     "data": {
      "text/html": [
       "<div>\n",
       "<style>\n",
       "    .dataframe thead tr:only-child th {\n",
       "        text-align: right;\n",
       "    }\n",
       "\n",
       "    .dataframe thead th {\n",
       "        text-align: left;\n",
       "    }\n",
       "\n",
       "    .dataframe tbody tr th {\n",
       "        vertical-align: top;\n",
       "    }\n",
       "</style>\n",
       "<table border=\"1\" class=\"dataframe\">\n",
       "  <thead>\n",
       "    <tr style=\"text-align: right;\">\n",
       "      <th></th>\n",
       "      <th>April</th>\n",
       "      <th>August</th>\n",
       "      <th>December</th>\n",
       "      <th>February</th>\n",
       "      <th>January</th>\n",
       "      <th>July</th>\n",
       "      <th>June</th>\n",
       "      <th>March</th>\n",
       "      <th>May</th>\n",
       "      <th>November</th>\n",
       "      <th>October</th>\n",
       "      <th>September</th>\n",
       "    </tr>\n",
       "  </thead>\n",
       "  <tbody>\n",
       "    <tr>\n",
       "      <th>0</th>\n",
       "      <td>2.0</td>\n",
       "      <td>8.0</td>\n",
       "      <td>12.0</td>\n",
       "      <td>4.0</td>\n",
       "      <td>6.0</td>\n",
       "      <td>7.0</td>\n",
       "      <td>5.0</td>\n",
       "      <td>1.0</td>\n",
       "      <td>3.0</td>\n",
       "      <td>9.0</td>\n",
       "      <td>11.0</td>\n",
       "      <td>10.0</td>\n",
       "    </tr>\n",
       "    <tr>\n",
       "      <th>1</th>\n",
       "      <td>9.0</td>\n",
       "      <td>5.0</td>\n",
       "      <td>12.0</td>\n",
       "      <td>2.0</td>\n",
       "      <td>1.0</td>\n",
       "      <td>4.0</td>\n",
       "      <td>6.0</td>\n",
       "      <td>3.0</td>\n",
       "      <td>7.0</td>\n",
       "      <td>11.0</td>\n",
       "      <td>10.0</td>\n",
       "      <td>8.0</td>\n",
       "    </tr>\n",
       "    <tr>\n",
       "      <th>2</th>\n",
       "      <td>5.0</td>\n",
       "      <td>7.0</td>\n",
       "      <td>1.0</td>\n",
       "      <td>11.0</td>\n",
       "      <td>12.0</td>\n",
       "      <td>10.0</td>\n",
       "      <td>9.0</td>\n",
       "      <td>8.0</td>\n",
       "      <td>6.0</td>\n",
       "      <td>3.0</td>\n",
       "      <td>2.0</td>\n",
       "      <td>4.0</td>\n",
       "    </tr>\n",
       "    <tr>\n",
       "      <th>3</th>\n",
       "      <td>3.0</td>\n",
       "      <td>7.0</td>\n",
       "      <td>12.0</td>\n",
       "      <td>1.0</td>\n",
       "      <td>6.0</td>\n",
       "      <td>10.0</td>\n",
       "      <td>5.0</td>\n",
       "      <td>9.0</td>\n",
       "      <td>4.0</td>\n",
       "      <td>11.0</td>\n",
       "      <td>8.0</td>\n",
       "      <td>2.0</td>\n",
       "    </tr>\n",
       "    <tr>\n",
       "      <th>4</th>\n",
       "      <td>4.0</td>\n",
       "      <td>6.0</td>\n",
       "      <td>12.0</td>\n",
       "      <td>1.0</td>\n",
       "      <td>2.0</td>\n",
       "      <td>10.0</td>\n",
       "      <td>8.0</td>\n",
       "      <td>3.0</td>\n",
       "      <td>5.0</td>\n",
       "      <td>11.0</td>\n",
       "      <td>9.0</td>\n",
       "      <td>7.0</td>\n",
       "    </tr>\n",
       "    <tr>\n",
       "      <th>5</th>\n",
       "      <td>4.0</td>\n",
       "      <td>8.0</td>\n",
       "      <td>12.0</td>\n",
       "      <td>2.0</td>\n",
       "      <td>1.0</td>\n",
       "      <td>6.0</td>\n",
       "      <td>7.0</td>\n",
       "      <td>3.0</td>\n",
       "      <td>5.0</td>\n",
       "      <td>11.0</td>\n",
       "      <td>10.0</td>\n",
       "      <td>9.0</td>\n",
       "    </tr>\n",
       "    <tr>\n",
       "      <th>6</th>\n",
       "      <td>5.5</td>\n",
       "      <td>5.5</td>\n",
       "      <td>5.5</td>\n",
       "      <td>11.0</td>\n",
       "      <td>12.0</td>\n",
       "      <td>5.5</td>\n",
       "      <td>5.5</td>\n",
       "      <td>5.5</td>\n",
       "      <td>5.5</td>\n",
       "      <td>5.5</td>\n",
       "      <td>5.5</td>\n",
       "      <td>5.5</td>\n",
       "    </tr>\n",
       "  </tbody>\n",
       "</table>\n",
       "</div>"
      ],
      "text/plain": [
       "   April  August  December  February  January  July  June  March  May  \\\n",
       "0    2.0     8.0      12.0       4.0      6.0   7.0   5.0    1.0  3.0   \n",
       "1    9.0     5.0      12.0       2.0      1.0   4.0   6.0    3.0  7.0   \n",
       "2    5.0     7.0       1.0      11.0     12.0  10.0   9.0    8.0  6.0   \n",
       "3    3.0     7.0      12.0       1.0      6.0  10.0   5.0    9.0  4.0   \n",
       "4    4.0     6.0      12.0       1.0      2.0  10.0   8.0    3.0  5.0   \n",
       "5    4.0     8.0      12.0       2.0      1.0   6.0   7.0    3.0  5.0   \n",
       "6    5.5     5.5       5.5      11.0     12.0   5.5   5.5    5.5  5.5   \n",
       "\n",
       "   November  October  September  \n",
       "0       9.0     11.0       10.0  \n",
       "1      11.0     10.0        8.0  \n",
       "2       3.0      2.0        4.0  \n",
       "3      11.0      8.0        2.0  \n",
       "4      11.0      9.0        7.0  \n",
       "5      11.0     10.0        9.0  \n",
       "6       5.5      5.5        5.5  "
      ]
     },
     "execution_count": 13,
     "metadata": {},
     "output_type": "execute_result"
    }
   ],
   "source": [
    "month_avgs.drop('Year', axis=1).rank(axis=1)"
   ]
  },
  {
   "cell_type": "markdown",
   "metadata": {},
   "source": [
    "Months that are later on in the year, such as October/November/December, seem to have higher rank. Although this is likely just due to the increasing trend of cryptocurrency."
   ]
  },
  {
   "cell_type": "code",
   "execution_count": 14,
   "metadata": {},
   "outputs": [
    {
     "data": {
      "text/html": [
       "<div>\n",
       "<style>\n",
       "    .dataframe thead tr:only-child th {\n",
       "        text-align: right;\n",
       "    }\n",
       "\n",
       "    .dataframe thead th {\n",
       "        text-align: left;\n",
       "    }\n",
       "\n",
       "    .dataframe tbody tr th {\n",
       "        vertical-align: top;\n",
       "    }\n",
       "</style>\n",
       "<table border=\"1\" class=\"dataframe\">\n",
       "  <thead>\n",
       "    <tr style=\"text-align: right;\">\n",
       "      <th></th>\n",
       "      <th>April</th>\n",
       "      <th>August</th>\n",
       "      <th>December</th>\n",
       "      <th>February</th>\n",
       "      <th>January</th>\n",
       "      <th>July</th>\n",
       "      <th>June</th>\n",
       "      <th>March</th>\n",
       "      <th>May</th>\n",
       "      <th>November</th>\n",
       "      <th>October</th>\n",
       "      <th>September</th>\n",
       "      <th>Year</th>\n",
       "    </tr>\n",
       "  </thead>\n",
       "  <tbody>\n",
       "    <tr>\n",
       "      <th>0</th>\n",
       "      <td>4.965896</td>\n",
       "      <td>10.873603</td>\n",
       "      <td>13.135257</td>\n",
       "      <td>5.253617</td>\n",
       "      <td>6.210285</td>\n",
       "      <td>7.775188</td>\n",
       "      <td>5.961872</td>\n",
       "      <td>4.948944</td>\n",
       "      <td>5.042166</td>\n",
       "      <td>11.302019</td>\n",
       "      <td>11.580728</td>\n",
       "      <td>11.400267</td>\n",
       "      <td>2012</td>\n",
       "    </tr>\n",
       "    <tr>\n",
       "      <th>1</th>\n",
       "      <td>125.647351</td>\n",
       "      <td>103.386922</td>\n",
       "      <td>791.966258</td>\n",
       "      <td>25.741707</td>\n",
       "      <td>15.311842</td>\n",
       "      <td>85.356419</td>\n",
       "      <td>105.074970</td>\n",
       "      <td>56.956316</td>\n",
       "      <td>117.089728</td>\n",
       "      <td>524.572121</td>\n",
       "      <td>152.340199</td>\n",
       "      <td>124.629855</td>\n",
       "      <td>2013</td>\n",
       "    </tr>\n",
       "    <tr>\n",
       "      <th>2</th>\n",
       "      <td>463.320172</td>\n",
       "      <td>536.095398</td>\n",
       "      <td>343.271350</td>\n",
       "      <td>665.321186</td>\n",
       "      <td>821.757334</td>\n",
       "      <td>617.308501</td>\n",
       "      <td>614.445771</td>\n",
       "      <td>597.555200</td>\n",
       "      <td>483.792634</td>\n",
       "      <td>366.008265</td>\n",
       "      <td>364.137785</td>\n",
       "      <td>445.736664</td>\n",
       "      <td>2014</td>\n",
       "    </tr>\n",
       "    <tr>\n",
       "      <th>3</th>\n",
       "      <td>235.054794</td>\n",
       "      <td>252.569366</td>\n",
       "      <td>422.163076</td>\n",
       "      <td>233.167626</td>\n",
       "      <td>251.840768</td>\n",
       "      <td>279.640755</td>\n",
       "      <td>237.378826</td>\n",
       "      <td>268.402124</td>\n",
       "      <td>236.779634</td>\n",
       "      <td>347.978013</td>\n",
       "      <td>264.736040</td>\n",
       "      <td>233.892409</td>\n",
       "      <td>2015</td>\n",
       "    </tr>\n",
       "    <tr>\n",
       "      <th>4</th>\n",
       "      <td>433.844826</td>\n",
       "      <td>579.044451</td>\n",
       "      <td>821.156849</td>\n",
       "      <td>401.935362</td>\n",
       "      <td>411.403763</td>\n",
       "      <td>661.299670</td>\n",
       "      <td>639.400484</td>\n",
       "      <td>414.765630</td>\n",
       "      <td>460.487036</td>\n",
       "      <td>724.210465</td>\n",
       "      <td>640.967599</td>\n",
       "      <td>604.362367</td>\n",
       "      <td>2016</td>\n",
       "    </tr>\n",
       "    <tr>\n",
       "      <th>5</th>\n",
       "      <td>1212.385282</td>\n",
       "      <td>3836.256386</td>\n",
       "      <td>14904.144062</td>\n",
       "      <td>1059.535756</td>\n",
       "      <td>909.061716</td>\n",
       "      <td>2495.321295</td>\n",
       "      <td>2607.779323</td>\n",
       "      <td>1127.333906</td>\n",
       "      <td>1882.554626</td>\n",
       "      <td>7753.708621</td>\n",
       "      <td>5297.857584</td>\n",
       "      <td>4089.788818</td>\n",
       "      <td>2017</td>\n",
       "    </tr>\n",
       "    <tr>\n",
       "      <th>6</th>\n",
       "      <td>0.000000</td>\n",
       "      <td>0.000000</td>\n",
       "      <td>0.000000</td>\n",
       "      <td>8225.542987</td>\n",
       "      <td>12854.472549</td>\n",
       "      <td>0.000000</td>\n",
       "      <td>0.000000</td>\n",
       "      <td>0.000000</td>\n",
       "      <td>0.000000</td>\n",
       "      <td>0.000000</td>\n",
       "      <td>0.000000</td>\n",
       "      <td>0.000000</td>\n",
       "      <td>2018</td>\n",
       "    </tr>\n",
       "  </tbody>\n",
       "</table>\n",
       "</div>"
      ],
      "text/plain": [
       "         April       August      December     February       January  \\\n",
       "0     4.965896    10.873603     13.135257     5.253617      6.210285   \n",
       "1   125.647351   103.386922    791.966258    25.741707     15.311842   \n",
       "2   463.320172   536.095398    343.271350   665.321186    821.757334   \n",
       "3   235.054794   252.569366    422.163076   233.167626    251.840768   \n",
       "4   433.844826   579.044451    821.156849   401.935362    411.403763   \n",
       "5  1212.385282  3836.256386  14904.144062  1059.535756    909.061716   \n",
       "6     0.000000     0.000000      0.000000  8225.542987  12854.472549   \n",
       "\n",
       "          July         June        March          May     November  \\\n",
       "0     7.775188     5.961872     4.948944     5.042166    11.302019   \n",
       "1    85.356419   105.074970    56.956316   117.089728   524.572121   \n",
       "2   617.308501   614.445771   597.555200   483.792634   366.008265   \n",
       "3   279.640755   237.378826   268.402124   236.779634   347.978013   \n",
       "4   661.299670   639.400484   414.765630   460.487036   724.210465   \n",
       "5  2495.321295  2607.779323  1127.333906  1882.554626  7753.708621   \n",
       "6     0.000000     0.000000     0.000000     0.000000     0.000000   \n",
       "\n",
       "       October    September  Year  \n",
       "0    11.580728    11.400267  2012  \n",
       "1   152.340199   124.629855  2013  \n",
       "2   364.137785   445.736664  2014  \n",
       "3   264.736040   233.892409  2015  \n",
       "4   640.967599   604.362367  2016  \n",
       "5  5297.857584  4089.788818  2017  \n",
       "6     0.000000     0.000000  2018  "
      ]
     },
     "execution_count": 14,
     "metadata": {},
     "output_type": "execute_result"
    }
   ],
   "source": [
    "month_avgs"
   ]
  },
  {
   "cell_type": "code",
   "execution_count": 31,
   "metadata": {
    "collapsed": true
   },
   "outputs": [],
   "source": [
    "# finding acf and pacf\n",
    "from statsmodels.tsa.stattools import acf, pacf"
   ]
  },
  {
   "cell_type": "code",
   "execution_count": 25,
   "metadata": {},
   "outputs": [
    {
     "data": {
      "text/plain": [
       "DatetimeIndex(['2011-09-30', '2011-10-01', '2011-10-02', '2011-10-15',\n",
       "               '2011-10-16', '2011-10-18', '2011-10-19', '2011-10-22',\n",
       "               '2011-10-23', '2011-10-27', '2011-11-02', '2011-11-03',\n",
       "               '2011-11-07', '2011-11-23', '2011-11-27', '2011-12-04',\n",
       "               '2011-12-09', '2011-12-17'],\n",
       "              dtype='datetime64[ns]', name='Date', freq=None)"
      ]
     },
     "execution_count": 25,
     "metadata": {},
     "output_type": "execute_result"
    }
   ],
   "source": [
    "btc_ts[btc_ts.price_usd.isnull()].index"
   ]
  },
  {
   "cell_type": "code",
   "execution_count": 32,
   "metadata": {},
   "outputs": [
    {
     "data": {
      "text/plain": [
       "array([ 1.        ,  0.99591064,  0.99133598,  0.98678896,  0.98245787,\n",
       "        0.9786214 ,  0.97449344,  0.96955738,  0.96462092,  0.95947675,\n",
       "        0.9535676 ,  0.94667102,  0.93966995,  0.93245733,  0.92539301,\n",
       "        0.91875301,  0.91237153,  0.90611936,  0.90000182,  0.89363849,\n",
       "        0.88668068,  0.87846653,  0.86981631,  0.86167209,  0.85357551,\n",
       "        0.846313  ,  0.83807389,  0.82840703,  0.81901942,  0.80913957,\n",
       "        0.79957103,  0.79015591,  0.78085395,  0.7714066 ,  0.76155184,\n",
       "        0.75115982,  0.7408503 ,  0.7312259 ,  0.72235817,  0.71315894,\n",
       "        0.70399192])"
      ]
     },
     "execution_count": 32,
     "metadata": {},
     "output_type": "execute_result"
    }
   ],
   "source": [
    "btc_cut = btc_ts['2011-12-18':]\n",
    "acf(btc_cut)"
   ]
  },
  {
   "cell_type": "code",
   "execution_count": 33,
   "metadata": {},
   "outputs": [
    {
     "data": {
      "text/plain": [
       "array([ 1.        ,  0.99635405, -0.06900577,  0.00574465,  0.02654105,\n",
       "        0.06215883, -0.05122343, -0.10762037,  0.01496117, -0.03094626,\n",
       "       -0.11883558, -0.14369584,  0.00551931, -0.03394938, -0.00642489,\n",
       "        0.04919304,  0.06343766,  0.03920769,  0.02656327, -0.00215751,\n",
       "       -0.05549648, -0.17555174, -0.0668602 ,  0.05765211, -0.05050667,\n",
       "        0.07607858, -0.15081356, -0.17087642,  0.06025765, -0.06745299,\n",
       "        0.08065902,  0.04795403,  0.08183798, -0.00333096, -0.09796545,\n",
       "       -0.09984649,  0.04421822,  0.10933277,  0.1002542 , -0.02732057,\n",
       "        0.00861068])"
      ]
     },
     "execution_count": 33,
     "metadata": {},
     "output_type": "execute_result"
    }
   ],
   "source": [
    "pacf(btc_cut)"
   ]
  },
  {
   "cell_type": "code",
   "execution_count": null,
   "metadata": {
    "collapsed": true
   },
   "outputs": [],
   "source": [
    "# looking at dips in bitcoin price\n"
   ]
  }
 ],
 "metadata": {
  "kernelspec": {
   "display_name": "Python 3",
   "language": "python",
   "name": "python3"
  },
  "language_info": {
   "codemirror_mode": {
    "name": "ipython",
    "version": 3
   },
   "file_extension": ".py",
   "mimetype": "text/x-python",
   "name": "python",
   "nbconvert_exporter": "python",
   "pygments_lexer": "ipython3",
   "version": "3.6.2"
  }
 },
 "nbformat": 4,
 "nbformat_minor": 2
}
